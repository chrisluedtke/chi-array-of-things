{
 "cells": [
  {
   "cell_type": "markdown",
   "metadata": {
    "colab_type": "text",
    "id": "view-in-github"
   },
   "source": [
    "<a href=\"https://colab.research.google.com/github/chrisluedtke/chi-array-of-things/blob/master/Intro-to-Chicago-Array-of-Things.ipynb\" target=\"_parent\"><img src=\"https://colab.research.google.com/assets/colab-badge.svg\" alt=\"Open In Colab\"/></a>"
   ]
  },
  {
   "cell_type": "markdown",
   "metadata": {
    "colab_type": "text",
    "id": "ekc77I5FcYFk"
   },
   "source": [
    "## An Exploration of Chicago's Array of Things API (via python client)\n",
    "Array of Things has expanded in Chicago to include more than 100 continuous sensors across the city.\n",
    "\n",
    "**Resources**\n",
    "* [Home Page](https://arrayofthings.github.io)\n",
    "* [python client](https://github.com/UrbanCCD-UChicago/aot-client-py)\n",
    "* [API documentation](https://arrayofthings.docs.apiary.io)\n",
    "\n",
    "**TODOs**\n",
    "  * more efficient queries to get a spread of data\n",
    "  * dropdown sensor type, generate animation over the day, for temperature"
   ]
  },
  {
   "cell_type": "code",
   "execution_count": 2,
   "metadata": {
    "colab": {
     "base_uri": "https://localhost:8080/",
     "height": 124
    },
    "colab_type": "code",
    "id": "OVaj2pkQlRfc",
    "outputId": "3345aa37-25d1-47be-fd7b-a03a0f939cff"
   },
   "outputs": [],
   "source": [
    " # !pip install aot-client"
   ]
  },
  {
   "cell_type": "code",
   "execution_count": 72,
   "metadata": {
    "colab": {
     "base_uri": "https://localhost:8080/",
     "height": 195
    },
    "colab_type": "code",
    "id": "2uM31zhplerO",
    "outputId": "e8240aaf-98d5-46c9-a338-bc6773b0844b"
   },
   "outputs": [
    {
     "data": {
      "text/plain": [
       "['get_node_details',\n",
       " 'get_project_details',\n",
       " 'get_sensor_details',\n",
       " 'list_metrics',\n",
       " 'list_nodes',\n",
       " 'list_observations',\n",
       " 'list_projects',\n",
       " 'list_sensors']"
      ]
     },
     "execution_count": 72,
     "metadata": {},
     "output_type": "execute_result"
    }
   ],
   "source": [
    "from aot_client import AotClient\n",
    "\n",
    "client = AotClient()\n",
    "\n",
    "# What are the methods/properties of the client?\n",
    "[_ for _ in dir(client) if not _.startswith('_')]"
   ]
  },
  {
   "cell_type": "markdown",
   "metadata": {
    "colab_type": "text",
    "id": "3v5xgh70adv0"
   },
   "source": [
    "It appears results will be paginated and we can also pass a filter. From the docs website I see that users may pass a timestamp filter in ISO 8601 format. Let's get measurements from the past 15 minutes."
   ]
  },
  {
   "cell_type": "code",
   "execution_count": 267,
   "metadata": {
    "colab": {
     "base_uri": "https://localhost:8080/",
     "height": 229
    },
    "colab_type": "code",
    "id": "BiGuGsktmVKH",
    "outputId": "78887512-ba5a-4e69-9e70-a36c665ec56c"
   },
   "outputs": [],
   "source": [
    "import datetime\n",
    "\n",
    "import pandas as pd\n",
    "from aot_client import AotClient\n",
    "from aot_client import F\n",
    "\n",
    "\n",
    "def time_x_mins_ago(minutes:int):\n",
    "    '''Get formatted time to pass to API filter, relative to current time\n",
    "    '''\n",
    "    t = (datetime.datetime.now() - \n",
    "         datetime.timedelta(minutes=minutes) + \n",
    "         datetime.timedelta(hours=5))  # convert timezone from central\n",
    "    t = t.isoformat()\n",
    "    \n",
    "    return t[0:19]\n",
    "\n",
    "\n",
    "def unpack_response(response, page_limit=1000):\n",
    "    try:\n",
    "        pages = []\n",
    "        for i, page in enumerate(response):\n",
    "            if i + 1 > page_limit:\n",
    "                break\n",
    "            pages.extend(page.data)\n",
    "    except HTTPError as e:\n",
    "        print(e)    \n",
    "    finally:\n",
    "        return pages\n",
    "\n",
    "\n",
    "def process_observations(obs_df):\n",
    "    # extract lat/lon to columns\n",
    "    obs_df['coords'] = obs_df['location'].apply(\n",
    "        lambda x: x['geometry']['coordinates'])\n",
    "    obs_df[['lon', 'lat']] = pd.DataFrame(\n",
    "        obs_df['coords'].tolist(), columns=['lon', 'lat'])\n",
    "    obs_df = obs_df.drop(columns=['coords'])\n",
    "    \n",
    "    # fix positive lon values\n",
    "    mask = obs_df['lon'] > 0\n",
    "    if sum(mask) > 0:\n",
    "        print(f'fixed {sum(mask)} rows with positive lon value')\n",
    "        obs_df.loc[mask, 'lon'] = obs_df.loc[mask, 'lon'] * -1\n",
    "\n",
    "    # remove lat/lon values at 0\n",
    "    mask = (obs_df['lon'] != 0) & (obs_df['lat'] != 0)\n",
    "    if len(obs_df) - sum(mask) > 0:\n",
    "        print(f'removed {len(obs_df) - sum(mask)} rows with lat/lon at 0')\n",
    "        obs_df = obs_df.loc[mask]\n",
    "\n",
    "    # remove lat values less than 40 degrees\n",
    "    mask = (obs_df['lat'] > 40)\n",
    "    if len(obs_df) - sum(mask) > 0:\n",
    "        print(f'removed {len(obs_df) - sum(mask)} '\n",
    "              'rows with lat/lon outside Chicago region')\n",
    "        obs_df = obs_df.loc[mask]\n",
    "    \n",
    "    return obs_df"
   ]
  },
  {
   "cell_type": "code",
   "execution_count": 291,
   "metadata": {
    "colab": {
     "base_uri": "https://localhost:8080/",
     "height": 229
    },
    "colab_type": "code",
    "id": "BiGuGsktmVKH",
    "outputId": "78887512-ba5a-4e69-9e70-a36c665ec56c",
    "scrolled": true
   },
   "outputs": [
    {
     "name": "stdout",
     "output_type": "stream",
     "text": [
      "200\n"
     ]
    }
   ],
   "source": [
    "client = AotClient()\n",
    "\n",
    "# create filter\n",
    "f = F()\n",
    "# f &= ('timestamp', 'ge', time_x_mins_ago(5))\n",
    "f &= ('sensor', 'image.image_detector.person_total')\n",
    "# f &= ('sensor', 'image.image_detector.car_total')\n",
    "# f &= ('sensor', 'metsense.tsys01.temperature')\n",
    "\n",
    "response = client.list_observations(filters=f)\n",
    "\n",
    "pages = unpack_response(response, page_limit=1)\n",
    "print(len(pages))\n",
    "obs_df = pd.DataFrame(pages)"
   ]
  },
  {
   "cell_type": "code",
   "execution_count": 292,
   "metadata": {},
   "outputs": [
    {
     "data": {
      "text/plain": [
       "{'sensor': [('image.image_detector.person_total',)]}"
      ]
     },
     "execution_count": 292,
     "metadata": {},
     "output_type": "execute_result"
    }
   ],
   "source": [
    "f.filters"
   ]
  },
  {
   "cell_type": "code",
   "execution_count": 293,
   "metadata": {},
   "outputs": [
    {
     "data": {
      "text/plain": [
       "'https://api-of-things.plenar.io/api/observations?order=desc%3Atimestamp&page=1&sensor=image.image_detector.person_total&size=200'"
      ]
     },
     "execution_count": 293,
     "metadata": {},
     "output_type": "execute_result"
    }
   ],
   "source": [
    "response.current_link"
   ]
  },
  {
   "cell_type": "code",
   "execution_count": 294,
   "metadata": {},
   "outputs": [
    {
     "name": "stdout",
     "output_type": "stream",
     "text": [
      "removed 2 rows with lat/lon at 0\n",
      "shape: (198, 8)\n"
     ]
    },
    {
     "data": {
      "text/html": [
       "<div>\n",
       "<style scoped>\n",
       "    .dataframe tbody tr th:only-of-type {\n",
       "        vertical-align: middle;\n",
       "    }\n",
       "\n",
       "    .dataframe tbody tr th {\n",
       "        vertical-align: top;\n",
       "    }\n",
       "\n",
       "    .dataframe thead th {\n",
       "        text-align: right;\n",
       "    }\n",
       "</style>\n",
       "<table border=\"1\" class=\"dataframe\">\n",
       "  <thead>\n",
       "    <tr style=\"text-align: right;\">\n",
       "      <th></th>\n",
       "      <th>location</th>\n",
       "      <th>node_vsn</th>\n",
       "      <th>sensor_path</th>\n",
       "      <th>timestamp</th>\n",
       "      <th>uom</th>\n",
       "      <th>value</th>\n",
       "      <th>lon</th>\n",
       "      <th>lat</th>\n",
       "    </tr>\n",
       "  </thead>\n",
       "  <tbody>\n",
       "    <tr>\n",
       "      <th>0</th>\n",
       "      <td>{'type': 'Feature', 'geometry': {'type': 'Poin...</td>\n",
       "      <td>12D</td>\n",
       "      <td>image.image_detector.person_total</td>\n",
       "      <td>2019-05-17T23:15:46</td>\n",
       "      <td>counts</td>\n",
       "      <td>0.0</td>\n",
       "      <td>-88.062771</td>\n",
       "      <td>41.922183</td>\n",
       "    </tr>\n",
       "    <tr>\n",
       "      <th>1</th>\n",
       "      <td>{'type': 'Feature', 'geometry': {'type': 'Poin...</td>\n",
       "      <td>12D</td>\n",
       "      <td>image.image_detector.person_total</td>\n",
       "      <td>2019-05-17T23:10:45</td>\n",
       "      <td>counts</td>\n",
       "      <td>0.0</td>\n",
       "      <td>-88.062771</td>\n",
       "      <td>41.922183</td>\n",
       "    </tr>\n",
       "    <tr>\n",
       "      <th>2</th>\n",
       "      <td>{'type': 'Feature', 'geometry': {'type': 'Poin...</td>\n",
       "      <td>12D</td>\n",
       "      <td>image.image_detector.person_total</td>\n",
       "      <td>2019-05-17T23:10:42</td>\n",
       "      <td>counts</td>\n",
       "      <td>0.0</td>\n",
       "      <td>-88.062771</td>\n",
       "      <td>41.922183</td>\n",
       "    </tr>\n",
       "    <tr>\n",
       "      <th>3</th>\n",
       "      <td>{'type': 'Feature', 'geometry': {'type': 'Poin...</td>\n",
       "      <td>12D</td>\n",
       "      <td>image.image_detector.person_total</td>\n",
       "      <td>2019-05-17T23:05:45</td>\n",
       "      <td>counts</td>\n",
       "      <td>0.0</td>\n",
       "      <td>-88.062771</td>\n",
       "      <td>41.922183</td>\n",
       "    </tr>\n",
       "    <tr>\n",
       "      <th>4</th>\n",
       "      <td>{'type': 'Feature', 'geometry': {'type': 'Poin...</td>\n",
       "      <td>11F</td>\n",
       "      <td>image.image_detector.person_total</td>\n",
       "      <td>2019-05-17T23:05:44</td>\n",
       "      <td>counts</td>\n",
       "      <td>0.0</td>\n",
       "      <td>-88.062771</td>\n",
       "      <td>41.922183</td>\n",
       "    </tr>\n",
       "  </tbody>\n",
       "</table>\n",
       "</div>"
      ],
      "text/plain": [
       "                                            location node_vsn  \\\n",
       "0  {'type': 'Feature', 'geometry': {'type': 'Poin...      12D   \n",
       "1  {'type': 'Feature', 'geometry': {'type': 'Poin...      12D   \n",
       "2  {'type': 'Feature', 'geometry': {'type': 'Poin...      12D   \n",
       "3  {'type': 'Feature', 'geometry': {'type': 'Poin...      12D   \n",
       "4  {'type': 'Feature', 'geometry': {'type': 'Poin...      11F   \n",
       "\n",
       "                         sensor_path            timestamp     uom  value  \\\n",
       "0  image.image_detector.person_total  2019-05-17T23:15:46  counts    0.0   \n",
       "1  image.image_detector.person_total  2019-05-17T23:10:45  counts    0.0   \n",
       "2  image.image_detector.person_total  2019-05-17T23:10:42  counts    0.0   \n",
       "3  image.image_detector.person_total  2019-05-17T23:05:45  counts    0.0   \n",
       "4  image.image_detector.person_total  2019-05-17T23:05:44  counts    0.0   \n",
       "\n",
       "         lon        lat  \n",
       "0 -88.062771  41.922183  \n",
       "1 -88.062771  41.922183  \n",
       "2 -88.062771  41.922183  \n",
       "3 -88.062771  41.922183  \n",
       "4 -88.062771  41.922183  "
      ]
     },
     "execution_count": 294,
     "metadata": {},
     "output_type": "execute_result"
    }
   ],
   "source": [
    "obs_df = process_observations(obs_df)\n",
    "print(f\"shape: {obs_df.shape}\")\n",
    "obs_df.head()"
   ]
  },
  {
   "cell_type": "code",
   "execution_count": 307,
   "metadata": {},
   "outputs": [],
   "source": [
    "import folium\n",
    "import folium.plugins\n",
    "\n",
    "def map(df):\n",
    "    m = folium.Map(location=[df['lat'].mean(), \n",
    "                             df['lon'].mean()],\n",
    "                   tiles='CartoDB dark_matter',\n",
    "                   zoom_start=12)\n",
    "\n",
    "    for i, r in df.iterrows():\n",
    "        folium.CircleMarker(\n",
    "            location=(r['lat'], r['lon']),              \n",
    "    #         radius=3,\n",
    "    #         color=r['color'],\n",
    "    #         weight=0.5,\n",
    "            tooltip=f\"{r['timestamp']}<br>{r['value']} {r['uom']}\",\n",
    "#             popup=folium.Popup(f\"{r['value']} {r['uom']}\", max_width=500),\n",
    "            fill=True\n",
    "        ).add_to(m)\n",
    "\n",
    "    folium.plugins.Fullscreen(\n",
    "        position='topright',\n",
    "        force_separate_button=True\n",
    "    ).add_to(m)\n",
    "\n",
    "    return m"
   ]
  },
  {
   "cell_type": "code",
   "execution_count": 308,
   "metadata": {},
   "outputs": [
    {
     "data": {
      "application/vnd.jupyter.widget-view+json": {
       "model_id": "4e3da0a96cd841d3b880ccf8c3e630fd",
       "version_major": 2,
       "version_minor": 0
      },
      "text/html": [
       "<p>Failed to display Jupyter Widget of type <code>interactive</code>.</p>\n",
       "<p>\n",
       "  If you're reading this message in the Jupyter Notebook or JupyterLab Notebook, it may mean\n",
       "  that the widgets JavaScript is still loading. If this message persists, it\n",
       "  likely means that the widgets JavaScript library is either not installed or\n",
       "  not enabled. See the <a href=\"https://ipywidgets.readthedocs.io/en/stable/user_install.html\">Jupyter\n",
       "  Widgets Documentation</a> for setup instructions.\n",
       "</p>\n",
       "<p>\n",
       "  If you're reading this message in another frontend (for example, a static\n",
       "  rendering on GitHub or <a href=\"https://nbviewer.jupyter.org/\">NBViewer</a>),\n",
       "  it may mean that your frontend doesn't currently support widgets.\n",
       "</p>\n"
      ],
      "text/plain": [
       "interactive(children=(Dropdown(description='sensor', options=('alphasense.opc_n2.bins', 'alphasense.opc_n2.fw', 'alphasense.opc_n2.pm1', 'alphasense.opc_n2.pm10', 'alphasense.opc_n2.pm2_5', 'alphasense.opc_n2.sample_flow_rate', 'alphasense.opc_n2.sampling_period', 'audio.microphone.octave_10_intensity', 'audio.microphone.octave_1_intensity', 'audio.microphone.octave_2_intensity', 'audio.microphone.octave_3_intensity', 'audio.microphone.octave_4_intensity', 'audio.microphone.octave_5_intensity', 'audio.microphone.octave_6_intensity', 'audio.microphone.octave_7_intensity', 'audio.microphone.octave_8_intensity', 'audio.microphone.octave_9_intensity', 'audio.microphone.octave_total_intensity', 'chemsense.at0.temperature', 'chemsense.at1.temperature', 'chemsense.at2.temperature', 'chemsense.at3.temperature', 'chemsense.chemsense.id', 'chemsense.co.concentration', 'chemsense.h2s.concentration', 'chemsense.lps25h.pressure', 'chemsense.lps25h.temperature', 'chemsense.no2.concentration', 'chemsense.o3.concentration', 'chemsense.oxidizing_gases.concentration', 'chemsense.reducing_gases.concentration', 'chemsense.sht25.humidity', 'chemsense.sht25.temperature', 'chemsense.si1145.ir_intensity', 'chemsense.si1145.uv_intensity', 'chemsense.si1145.visible_light_intensity', 'chemsense.so2.concentration', 'ep.device.bcam', 'ep.device.coresense', 'ep.device.lan', 'ep.device.mic', 'ep.device.modem', 'ep.device.samba', 'ep.device.tcam', 'ep.device.wagman', 'ep.device.wwan', 'ep.disk_size.boot', 'ep.disk_size.root', 'ep.disk_size.rw', 'ep.disk_used.boot', 'ep.disk_used.root', 'ep.disk_used.rw', 'ep.disk_used_ratio.boot', 'ep.disk_used_ratio.root', 'ep.disk_used_ratio.rw', 'ep.loadavg.loadavg1', 'ep.loadavg.loadavg15', 'ep.loadavg.loadavg5', 'ep.media.media', 'ep.mem.free', 'ep.mem.free_ratio', 'ep.mem.total', 'ep.modem.dbm', 'ep.net_rx.lan', 'ep.net_rx.wwan', 'ep.net_tx.lan', 'ep.net_tx.wwan', 'ep.ping.beehive', 'ep.ping.ep', 'ep.ping.nc', 'ep.plugins.active', 'ep.plugins.enabled', 'ep.service_active.coresense', 'ep.service_active.rabbitmq', 'ep.time.time', 'ep.uptime.uptime', 'image.image_detector.car_total', 'image.image_detector.person_total', 'lightsense.apds_9006_020.intensity', 'lightsense.hih6130.humidity', 'lightsense.hih6130.temperature', 'lightsense.hmc5883l.magnetic_field_x', 'lightsense.hmc5883l.magnetic_field_y', 'lightsense.hmc5883l.magnetic_field_z', 'lightsense.ml8511.intensity', 'lightsense.mlx75305.intensity', 'lightsense.tmp421.temperature', 'lightsense.tsl250rd.intensity', 'lightsense.tsl260rd.intensity', 'metsense.bmp180.pressure', 'metsense.bmp180.temperature', 'metsense.hih4030.humidity', 'metsense.htu21d.humidity', 'metsense.htu21d.temperature', 'metsense.metsense.id', 'metsense.mma8452q.acceleration_x', 'metsense.mma8452q.acceleration_y', 'metsense.mma8452q.acceleration_z', 'metsense.pr103j2.temperature', 'metsense.spv1840lr5h_b.intensity', 'metsense.tmp112.temperature', 'metsense.tsl250rd.intensity', 'metsense.tsys01.temperature', 'nc.device.bcam', 'nc.device.coresense', 'nc.device.lan', 'nc.device.mic', 'nc.device.modem', 'nc.device.samba', 'nc.device.tcam', 'nc.device.wagman', 'nc.device.wwan', 'nc.disk_size.boot', 'nc.disk_size.root', 'nc.disk_size.rw', 'nc.disk_used.boot', 'nc.disk_used.root', 'nc.disk_used.rw', 'nc.disk_used_ratio.boot', 'nc.disk_used_ratio.root', 'nc.disk_used_ratio.rw', 'nc.loadavg.loadavg1', 'nc.loadavg.loadavg15', 'nc.loadavg.loadavg5', 'nc.media.media', 'nc.mem.free', 'nc.mem.free_ratio', 'nc.mem.total', 'nc.modem.dbm', 'nc.net_rx.lan', 'nc.net_rx.wwan', 'nc.net_tx.lan', 'nc.net_tx.wwan', 'nc.ping.beehive', 'nc.ping.ep', 'nc.ping.nc', 'nc.plugins.active', 'nc.plugins.enabled', 'nc.service_active.coresense', 'nc.service_active.rabbitmq', 'nc.time.time', 'nc.uptime.uptime', 'plantower.pms7003.10um_particle', 'plantower.pms7003.1um_particle', 'plantower.pms7003.2_5um_particle', 'plantower.pms7003.5um_particle', 'plantower.pms7003.pm10_atm', 'plantower.pms7003.pm10_cf', 'plantower.pms7003.pm1_atm', 'plantower.pms7003.pm1_cf', 'plantower.pms7003.pm25_atm', 'plantower.pms7003.pm25_cf', 'plantower.pms7003.point_3um_particle', 'plantower.pms7003.point_5um_particle', 'wagman.htu21d.humidity', 'wagman.htu21d.temperature', 'wagman.temperatures.battery', 'wagman.temperatures.brainplate', 'wagman.temperatures.ep_heatsink', 'wagman.temperatures.nc_heatsink', 'wagman.temperatures.powersupply', 'wagman.wagman_comm.up', 'wagman.wagman_cu.cs', 'wagman.wagman_cu.ep', 'wagman.wagman_cu.nc', 'wagman.wagman_cu.wm', 'wagman.wagman_enabled.cs', 'wagman.wagman_enabled.ep', 'wagman.wagman_enabled.nc', 'wagman.wagman_fc.cs', 'wagman.wagman_fc.ep', 'wagman.wagman_fc.nc', 'wagman.wagman_hb.cs', 'wagman.wagman_hb.ep', 'wagman.wagman_hb.nc', 'wagman.wagman_killing.cs', 'wagman.wagman_killing.ep', 'wagman.wagman_killing.nc', 'wagman.wagman_starting.cs', 'wagman.wagman_starting.ep', 'wagman.wagman_starting.nc', 'wagman.wagman_stopping.cs', 'wagman.wagman_stopping.ep', 'wagman.wagman_stopping.nc', 'wagman.wagman_th.0', 'wagman.wagman_th.1', 'wagman.wagman_th.2', 'wagman.wagman_th.3', 'wagman.wagman_th.4', 'wagman.wagman_uptime.uptime', 'wagman.wagman_vdc.cs', 'wagman.wagman_vdc.ep', 'wagman.wagman_vdc.nc'), value='alphasense.opc_n2.bins'), Output()), _dom_classes=('widget-interact',))"
      ]
     },
     "metadata": {},
     "output_type": "display_data"
    }
   ],
   "source": [
    "import ipywidgets as widgets\n",
    "from ipywidgets import interact, interact_manual\n",
    "\n",
    "sensors = client.list_sensors()\n",
    "sensors_df = pd.DataFrame(sensors.data)\n",
    "sensors_df.head()\n",
    "\n",
    "@interact\n",
    "def choose_sensor(sensor=sensors_df['path'].unique()):\n",
    "    client = AotClient()\n",
    "    f = F(('sensor', sensor))\n",
    "\n",
    "    response = client.list_observations(filters=f)\n",
    "    pages = unpack_response(response, page_limit=1)\n",
    "    obs_df = pd.DataFrame(pages)\n",
    "    obs_df = process_observations(obs_df)\n",
    "    \n",
    "    return map(obs_df.drop_duplicates(['lon', 'lat']))"
   ]
  },
  {
   "cell_type": "markdown",
   "metadata": {
    "colab_type": "text",
    "id": "kUVGnMfkPxPQ"
   },
   "source": [
    "Things I notice:\n",
    "* multiple temperature, pressure, humidity measures - are they comparable within the same node?\n",
    "* accelerometers are an interesting choice. I wonder how that data can be used.\n",
    "* does every node contain the same sensors?\n",
    "\n",
    "We already stored sensor observations in `obs_df`, but we still don't have context around the data. For that we must pull details about the sensors themselves."
   ]
  },
  {
   "cell_type": "markdown",
   "metadata": {},
   "source": [
    "### Interesting Sensors\n",
    "https://github.com/waggle-sensor/sensors/blob/master/sensors/datasheets/en-d6t.pdf"
   ]
  },
  {
   "cell_type": "markdown",
   "metadata": {
    "colab_type": "text",
    "id": "2yPMv_uTQpxz"
   },
   "source": [
    "What's going on with all those **temperature** measures?"
   ]
  },
  {
   "cell_type": "code",
   "execution_count": 0,
   "metadata": {
    "colab": {
     "base_uri": "https://localhost:8080/",
     "height": 621
    },
    "colab_type": "code",
    "id": "U2fbLvphQ9LQ",
    "outputId": "00a8a597-bfc2-4152-e204-66b856baa5cd"
   },
   "outputs": [
    {
     "data": {
      "text/plain": [
       "node_vsn\n",
       "004    [46.12, 7.35, 15.75, 4.4, 8.15, 7.81, 7.54, 8....\n",
       "01C    [17.12, 23.07, 7.9, 7.39, 6.65, 6.62, 10.03, 6...\n",
       "01F    [6.99, 14.0, 6.58, 6.94, 6.8, 9.57, 6.98, 12.6...\n",
       "020    [6.55, 6.5, 5.83, -0.5, 14.12, 10.03, 6.37, 16.0]\n",
       "02A    [13.0, 6.76, 5.1, 6.39, 7.42, -50.25, 6.62, 6....\n",
       "02D    [6.43, 8.29, 6.1, 7.61, 18.92, 6.74, 7.0, 6.8,...\n",
       "030    [6.35, 125.01, -254.0, -0.06, 214.75, 241.0, 1...\n",
       "04C    [7.06, 8.14, -4.63, 15.18, 7.25, -53.87, 7.24,...\n",
       "04D                                        [6.1, -84.84]\n",
       "051           [6.94, 28.66, 12.44, 6.88, 9.3, 6.2, 6.71]\n",
       "052                                               [7.45]\n",
       "053          [17.42, 7.85, 7.03, 6.8, 6.87, 14.81, 6.88]\n",
       "056            [13.0, 14.99, 9.0, 5.86, 5.81, 4.6, 5.62]\n",
       "06D    [8.81, 9.13, 8.11, 9.15, 8.34, 9.16, 9.74, 10....\n",
       "071         [6.58, 6.94, 6.9, -5.83, 34.93, 15.19, 30.9]\n",
       "073    [6.3, 214.75, -254.0, 9.8, 8.08, 7.2, 7.75, 12...\n",
       "079    [6.3, -254.0, 214.75, 125.01, -0.06, 128.86, 2...\n",
       "07F    [214.75, -254.0, 6.2, 128.86, 125.01, -0.06, 2...\n",
       "081    [214.75, -0.06, -254.0, 6.65, 128.86, 241.0, 1...\n",
       "085         [6.24, 12.31, 10.32, 40.7, 6.65, 6.56, 6.91]\n",
       "088    [-0.06, 128.86, 125.01, 6.1, 7.89, 241.0, 6.53...\n",
       "089    [2.9, 14.25, 7.03, 8.66, 22.04, 6.51, 7.96, 7....\n",
       "08B    [7.03, 7.25, 6.9, 11.12, 18.22, 6.35, 14.88, 3...\n",
       "08C    [9.5, 6.59, 6.82, 7.77, 6.53, 16.88, 7.42, 6.7...\n",
       "08D            [15.43, 6.2, 6.31, 5.96, 5.89, 8.0, 12.0]\n",
       "08F    [125.0, 7.35, 6.78, 6.47, 7.06, 9.21, 8.1, 6.5...\n",
       "096    [7.06, 7.92, 9.15, 6.73, 7.1, 7.27, 33.1, 6.94...\n",
       "09C    [7.33, 14.06, 7.15, 7.62, 8.25, 39.5, 13.12, 8...\n",
       "0A0           [7.2, 7.31, 36.8, 14.81, 7.28, 40.45, 7.5]\n",
       "0A3    [4.55, 241.0, -254.0, 128.86, -0.06, 214.75, 1...\n",
       "0A4            [5.13, 5.2, 5.75, 6.1, 23.5, 14.5, 17.16]\n",
       "0AA    [125.01, 214.75, 6.8, 128.86, -254.0, -0.06, 2...\n",
       "Name: value, dtype: object"
      ]
     },
     "execution_count": 190,
     "metadata": {
      "tags": []
     },
     "output_type": "execute_result"
    }
   ],
   "source": [
    "# sort to get most recent data first\n",
    "df = df.sort_values('timestamp', ascending=False)\n",
    "\n",
    "# drop duplicates to keep only the most recent value of each measurement\n",
    "df = df.drop_duplicates(['node_vsn', 'sensor_path'])\n",
    "\n",
    "temps_df = df.loc[\n",
    "    (df['parameter'] == 'temperature') & \n",
    "    (df['uom'] == 'C')\n",
    "]\n",
    "temps_df.groupby('node_vsn')['value'].apply(lambda x: x.unique())"
   ]
  },
  {
   "cell_type": "markdown",
   "metadata": {
    "colab_type": "text",
    "id": "8D2tEe6Qq8-5"
   },
   "source": [
    "Interesting. These temperatures are quite different from one another, even within the same node.\n",
    "\n",
    "How about CO levels?"
   ]
  },
  {
   "cell_type": "code",
   "execution_count": 0,
   "metadata": {
    "colab": {
     "base_uri": "https://localhost:8080/",
     "height": 428
    },
    "colab_type": "code",
    "id": "3QvaI0Gxre3H",
    "outputId": "df5355e1-8725-4783-cf8f-2ab40ea9cb12"
   },
   "outputs": [
    {
     "data": {
      "text/html": [
       "<div>\n",
       "<style scoped>\n",
       "    .dataframe tbody tr th:only-of-type {\n",
       "        vertical-align: middle;\n",
       "    }\n",
       "\n",
       "    .dataframe tbody tr th {\n",
       "        vertical-align: top;\n",
       "    }\n",
       "\n",
       "    .dataframe thead th {\n",
       "        text-align: right;\n",
       "    }\n",
       "</style>\n",
       "<table border=\"1\" class=\"dataframe\">\n",
       "  <thead>\n",
       "    <tr style=\"text-align: right;\">\n",
       "      <th></th>\n",
       "      <th>node_vsn</th>\n",
       "      <th>sensor_path</th>\n",
       "      <th>timestamp</th>\n",
       "      <th>value</th>\n",
       "      <th>lon</th>\n",
       "      <th>lat</th>\n",
       "      <th>parameter</th>\n",
       "      <th>sensor</th>\n",
       "      <th>uom</th>\n",
       "    </tr>\n",
       "  </thead>\n",
       "  <tbody>\n",
       "    <tr>\n",
       "      <th>584</th>\n",
       "      <td>08F</td>\n",
       "      <td>chemsense.co.concentration</td>\n",
       "      <td>2019-01-08T22:20:43</td>\n",
       "      <td>0.07933</td>\n",
       "      <td>-87.665948</td>\n",
       "      <td>41.961622</td>\n",
       "      <td>concentration</td>\n",
       "      <td>co</td>\n",
       "      <td>ppm</td>\n",
       "    </tr>\n",
       "    <tr>\n",
       "      <th>1435</th>\n",
       "      <td>02A</td>\n",
       "      <td>chemsense.co.concentration</td>\n",
       "      <td>2019-01-08T22:20:43</td>\n",
       "      <td>-0.38364</td>\n",
       "      <td>-87.575350</td>\n",
       "      <td>41.722457</td>\n",
       "      <td>concentration</td>\n",
       "      <td>co</td>\n",
       "      <td>ppm</td>\n",
       "    </tr>\n",
       "    <tr>\n",
       "      <th>3527</th>\n",
       "      <td>09C</td>\n",
       "      <td>chemsense.co.concentration</td>\n",
       "      <td>2019-01-08T22:20:35</td>\n",
       "      <td>-0.35367</td>\n",
       "      <td>-87.627864</td>\n",
       "      <td>41.884688</td>\n",
       "      <td>concentration</td>\n",
       "      <td>co</td>\n",
       "      <td>ppm</td>\n",
       "    </tr>\n",
       "    <tr>\n",
       "      <th>6459</th>\n",
       "      <td>088</td>\n",
       "      <td>chemsense.co.concentration</td>\n",
       "      <td>2019-01-08T22:20:34</td>\n",
       "      <td>0.09035</td>\n",
       "      <td>-87.666720</td>\n",
       "      <td>41.965256</td>\n",
       "      <td>concentration</td>\n",
       "      <td>co</td>\n",
       "      <td>ppm</td>\n",
       "    </tr>\n",
       "    <tr>\n",
       "      <th>7310</th>\n",
       "      <td>004</td>\n",
       "      <td>chemsense.co.concentration</td>\n",
       "      <td>2019-01-08T22:20:34</td>\n",
       "      <td>-0.59134</td>\n",
       "      <td>-87.627678</td>\n",
       "      <td>41.878377</td>\n",
       "      <td>concentration</td>\n",
       "      <td>co</td>\n",
       "      <td>ppm</td>\n",
       "    </tr>\n",
       "    <tr>\n",
       "      <th>9937</th>\n",
       "      <td>01C</td>\n",
       "      <td>chemsense.co.concentration</td>\n",
       "      <td>2019-01-08T22:20:32</td>\n",
       "      <td>-0.46646</td>\n",
       "      <td>-87.712990</td>\n",
       "      <td>41.751238</td>\n",
       "      <td>concentration</td>\n",
       "      <td>co</td>\n",
       "      <td>ppm</td>\n",
       "    </tr>\n",
       "    <tr>\n",
       "      <th>11369</th>\n",
       "      <td>08C</td>\n",
       "      <td>chemsense.co.concentration</td>\n",
       "      <td>2019-01-08T22:20:32</td>\n",
       "      <td>-0.31108</td>\n",
       "      <td>-87.687703</td>\n",
       "      <td>41.924903</td>\n",
       "      <td>concentration</td>\n",
       "      <td>co</td>\n",
       "      <td>ppm</td>\n",
       "    </tr>\n",
       "    <tr>\n",
       "      <th>12183</th>\n",
       "      <td>08B</td>\n",
       "      <td>chemsense.co.concentration</td>\n",
       "      <td>2019-01-08T22:20:31</td>\n",
       "      <td>-0.34345</td>\n",
       "      <td>-87.598713</td>\n",
       "      <td>41.788608</td>\n",
       "      <td>concentration</td>\n",
       "      <td>co</td>\n",
       "      <td>ppm</td>\n",
       "    </tr>\n",
       "    <tr>\n",
       "      <th>14653</th>\n",
       "      <td>01F</td>\n",
       "      <td>chemsense.co.concentration</td>\n",
       "      <td>2019-01-08T22:20:28</td>\n",
       "      <td>-0.07006</td>\n",
       "      <td>-87.624179</td>\n",
       "      <td>41.736314</td>\n",
       "      <td>concentration</td>\n",
       "      <td>co</td>\n",
       "      <td>ppm</td>\n",
       "    </tr>\n",
       "    <tr>\n",
       "      <th>15576</th>\n",
       "      <td>096</td>\n",
       "      <td>chemsense.co.concentration</td>\n",
       "      <td>2019-01-08T22:20:27</td>\n",
       "      <td>-0.36994</td>\n",
       "      <td>-87.536509</td>\n",
       "      <td>41.713867</td>\n",
       "      <td>concentration</td>\n",
       "      <td>co</td>\n",
       "      <td>ppm</td>\n",
       "    </tr>\n",
       "    <tr>\n",
       "      <th>16979</th>\n",
       "      <td>089</td>\n",
       "      <td>chemsense.co.concentration</td>\n",
       "      <td>2019-01-08T22:20:27</td>\n",
       "      <td>-0.41875</td>\n",
       "      <td>-87.662391</td>\n",
       "      <td>41.896157</td>\n",
       "      <td>concentration</td>\n",
       "      <td>co</td>\n",
       "      <td>ppm</td>\n",
       "    </tr>\n",
       "    <tr>\n",
       "      <th>18982</th>\n",
       "      <td>073</td>\n",
       "      <td>chemsense.co.concentration</td>\n",
       "      <td>2019-01-08T22:20:22</td>\n",
       "      <td>-0.20685</td>\n",
       "      <td>-87.615957</td>\n",
       "      <td>41.794477</td>\n",
       "      <td>concentration</td>\n",
       "      <td>co</td>\n",
       "      <td>ppm</td>\n",
       "    </tr>\n",
       "    <tr>\n",
       "      <th>19833</th>\n",
       "      <td>06D</td>\n",
       "      <td>chemsense.co.concentration</td>\n",
       "      <td>2019-01-08T22:20:20</td>\n",
       "      <td>-0.34541</td>\n",
       "      <td>-87.598677</td>\n",
       "      <td>41.791329</td>\n",
       "      <td>concentration</td>\n",
       "      <td>co</td>\n",
       "      <td>ppm</td>\n",
       "    </tr>\n",
       "  </tbody>\n",
       "</table>\n",
       "</div>"
      ],
      "text/plain": [
       "      node_vsn                 sensor_path            timestamp    value  \\\n",
       "584        08F  chemsense.co.concentration  2019-01-08T22:20:43  0.07933   \n",
       "1435       02A  chemsense.co.concentration  2019-01-08T22:20:43 -0.38364   \n",
       "3527       09C  chemsense.co.concentration  2019-01-08T22:20:35 -0.35367   \n",
       "6459       088  chemsense.co.concentration  2019-01-08T22:20:34  0.09035   \n",
       "7310       004  chemsense.co.concentration  2019-01-08T22:20:34 -0.59134   \n",
       "9937       01C  chemsense.co.concentration  2019-01-08T22:20:32 -0.46646   \n",
       "11369      08C  chemsense.co.concentration  2019-01-08T22:20:32 -0.31108   \n",
       "12183      08B  chemsense.co.concentration  2019-01-08T22:20:31 -0.34345   \n",
       "14653      01F  chemsense.co.concentration  2019-01-08T22:20:28 -0.07006   \n",
       "15576      096  chemsense.co.concentration  2019-01-08T22:20:27 -0.36994   \n",
       "16979      089  chemsense.co.concentration  2019-01-08T22:20:27 -0.41875   \n",
       "18982      073  chemsense.co.concentration  2019-01-08T22:20:22 -0.20685   \n",
       "19833      06D  chemsense.co.concentration  2019-01-08T22:20:20 -0.34541   \n",
       "\n",
       "             lon        lat      parameter sensor  uom  \n",
       "584   -87.665948  41.961622  concentration     co  ppm  \n",
       "1435  -87.575350  41.722457  concentration     co  ppm  \n",
       "3527  -87.627864  41.884688  concentration     co  ppm  \n",
       "6459  -87.666720  41.965256  concentration     co  ppm  \n",
       "7310  -87.627678  41.878377  concentration     co  ppm  \n",
       "9937  -87.712990  41.751238  concentration     co  ppm  \n",
       "11369 -87.687703  41.924903  concentration     co  ppm  \n",
       "12183 -87.598713  41.788608  concentration     co  ppm  \n",
       "14653 -87.624179  41.736314  concentration     co  ppm  \n",
       "15576 -87.536509  41.713867  concentration     co  ppm  \n",
       "16979 -87.662391  41.896157  concentration     co  ppm  \n",
       "18982 -87.615957  41.794477  concentration     co  ppm  \n",
       "19833 -87.598677  41.791329  concentration     co  ppm  "
      ]
     },
     "execution_count": 218,
     "metadata": {
      "tags": []
     },
     "output_type": "execute_result"
    }
   ],
   "source": [
    "co_conc_df = df.loc[df['sensor'] == 'co']\n",
    "\n",
    "co_conc_df"
   ]
  },
  {
   "cell_type": "markdown",
   "metadata": {
    "colab_type": "text",
    "id": "lE_CRluuy6yE"
   },
   "source": [
    "I wonder how there can be negative ppm values. Let's plot it anyway."
   ]
  },
  {
   "cell_type": "code",
   "execution_count": 0,
   "metadata": {
    "colab": {
     "base_uri": "https://localhost:8080/",
     "height": 124
    },
    "colab_type": "code",
    "id": "6XE3SlMusmqz",
    "outputId": "8b2d4954-08f8-4d15-d5dd-8fe02a1d0ea5"
   },
   "outputs": [
    {
     "name": "stderr",
     "output_type": "stream",
     "text": [
      "/usr/local/lib/python3.6/dist-packages/ipykernel_launcher.py:4: SettingWithCopyWarning: \n",
      "A value is trying to be set on a copy of a slice from a DataFrame.\n",
      "Try using .loc[row_indexer,col_indexer] = value instead\n",
      "\n",
      "See the caveats in the documentation: http://pandas.pydata.org/pandas-docs/stable/indexing.html#indexing-view-versus-copy\n",
      "  after removing the cwd from sys.path.\n"
     ]
    }
   ],
   "source": [
    "# create a normalized set of values that will be easier scale\n",
    "co_conc_df['value_norm'] = (\n",
    "    (co_conc_df['value'] - min(co_conc_df['value'])) / \n",
    "    (max(co_conc_df['value']) - min(co_conc_df['value']))\n",
    ") * 100"
   ]
  },
  {
   "cell_type": "code",
   "execution_count": 0,
   "metadata": {
    "colab": {
     "base_uri": "https://localhost:8080/",
     "height": 402
    },
    "colab_type": "code",
    "id": "fVUKcwzuX01N",
    "outputId": "03e0e428-11fa-4c69-f36c-fd6cecf85d11"
   },
   "outputs": [
    {
     "name": "stderr",
     "output_type": "stream",
     "text": [
      "/usr/local/lib/python3.6/dist-packages/matplotlib/cbook/deprecation.py:106: MatplotlibDeprecationWarning: Adding an axes using the same arguments as a previous axes currently reuses the earlier instance.  In a future version, a new instance will always be created and returned.  Meanwhile, this warning can be suppressed, and the future behavior ensured, by passing a unique label to each axes instance.\n",
      "  warnings.warn(message, mplDeprecation, stacklevel=1)\n"
     ]
    },
    {
     "data": {
      "image/png": "[encoded data removed]",
      "text/plain": [
       "<matplotlib.figure.Figure at 0x7fca99468588>"
      ]
     },
     "metadata": {
      "tags": []
     },
     "output_type": "display_data"
    }
   ],
   "source": [
    "plt.scatter(co_conc_df['lon'], co_conc_df['lat'], s=co_conc_df['value_norm'])\n",
    "plt.axes().set_aspect('equal')\n",
    "plt.show()"
   ]
  }
 ],
 "metadata": {
  "colab": {
   "include_colab_link": true,
   "name": "WalkieTalkie ",
   "provenance": [],
   "version": "0.3.2"
  },
  "kernelspec": {
   "display_name": "Python 3",
   "language": "python",
   "name": "python3"
  },
  "language_info": {
   "codemirror_mode": {
    "name": "ipython",
    "version": 3
   },
   "file_extension": ".py",
   "mimetype": "text/x-python",
   "name": "python",
   "nbconvert_exporter": "python",
   "pygments_lexer": "ipython3",
   "version": "3.6.4"
  }
 },
 "nbformat": 4,
 "nbformat_minor": 1
}

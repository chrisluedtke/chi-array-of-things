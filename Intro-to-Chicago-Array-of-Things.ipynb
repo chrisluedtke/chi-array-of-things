{
  "nbformat": 4,
  "nbformat_minor": 0,
  "metadata": {
    "colab": {
      "name": "WalkieTalkie ",
      "version": "0.3.2",
      "provenance": [],
      "include_colab_link": true
    },
    "kernelspec": {
      "name": "python3",
      "display_name": "Python 3"
    }
  },
  "cells": [
    {
      "cell_type": "markdown",
      "metadata": {
        "id": "view-in-github",
        "colab_type": "text"
      },
      "source": [
        "<a href=\"https://colab.research.google.com/github/chrisluedtke/chi-array-of-things/blob/master/Intro-to-Chicago-Array-of-Things.ipynb\" target=\"_parent\"><img src=\"https://colab.research.google.com/assets/colab-badge.svg\" alt=\"Open In Colab\"/></a>"
      ]
    },
    {
      "metadata": {
        "id": "ekc77I5FcYFk",
        "colab_type": "text"
      },
      "cell_type": "markdown",
      "source": [
        "## An Exploration of Chicago's Array of Things API (via python client)\n",
        "[Array of Things](https://arrayofthings.github.io/index.html) has expanded in Chicago to include more than 100 continuous sensors across the city.\n",
        "\n",
        "There is a handy [python client](https://github.com/UrbanCCD-UChicago/aot-client-py).\n",
        "\n",
        "And of course the [API documentation](https://arrayofthings.docs.apiary.io)."
      ]
    },
    {
      "metadata": {
        "id": "OVaj2pkQlRfc",
        "colab_type": "code",
        "colab": {
          "base_uri": "https://localhost:8080/",
          "height": 124
        },
        "outputId": "3345aa37-25d1-47be-fd7b-a03a0f939cff"
      },
      "cell_type": "code",
      "source": [
        "!pip install aot-client"
      ],
      "execution_count": 67,
      "outputs": [
        {
          "output_type": "stream",
          "text": [
            "Requirement already satisfied: aot-client in /usr/local/lib/python3.6/dist-packages (0.2.1)\n",
            "Requirement already satisfied: requests in /usr/local/lib/python3.6/dist-packages (from aot-client) (2.18.4)\n",
            "Requirement already satisfied: urllib3<1.23,>=1.21.1 in /usr/local/lib/python3.6/dist-packages (from requests->aot-client) (1.22)\n",
            "Requirement already satisfied: idna<2.7,>=2.5 in /usr/local/lib/python3.6/dist-packages (from requests->aot-client) (2.6)\n",
            "Requirement already satisfied: chardet<3.1.0,>=3.0.2 in /usr/local/lib/python3.6/dist-packages (from requests->aot-client) (3.0.4)\n",
            "Requirement already satisfied: certifi>=2017.4.17 in /usr/local/lib/python3.6/dist-packages (from requests->aot-client) (2018.11.29)\n"
          ],
          "name": "stdout"
        }
      ]
    },
    {
      "metadata": {
        "id": "2uM31zhplerO",
        "colab_type": "code",
        "colab": {
          "base_uri": "https://localhost:8080/",
          "height": 195
        },
        "outputId": "35786717-6ea1-490a-ca41-ce3853a182aa"
      },
      "cell_type": "code",
      "source": [
        "from aot_client import AotClient\n",
        "\n",
        "client = AotClient()\n",
        "\n",
        "# What are the methods/properties or the client?\n",
        "[_ for _ in dir(client) if '__' not in _]"
      ],
      "execution_count": 121,
      "outputs": [
        {
          "output_type": "execute_result",
          "data": {
            "text/plain": [
              "['_hostname',\n",
              " '_send_request',\n",
              " 'get_node_details',\n",
              " 'get_project_details',\n",
              " 'get_sensor_details',\n",
              " 'list_nodes',\n",
              " 'list_observations',\n",
              " 'list_projects',\n",
              " 'list_raw_observations',\n",
              " 'list_sensors']"
            ]
          },
          "metadata": {
            "tags": []
          },
          "execution_count": 121
        }
      ]
    },
    {
      "metadata": {
        "id": "BxFaiNZuVSM-",
        "colab_type": "code",
        "colab": {
          "base_uri": "https://localhost:8080/",
          "height": 230
        },
        "outputId": "25fde479-5ce8-402f-84e1-409e26de054f"
      },
      "cell_type": "code",
      "source": [
        "help(client.list_observations)"
      ],
      "execution_count": 117,
      "outputs": [
        {
          "output_type": "stream",
          "text": [
            "Help on method list_observations in module aot_client.client:\n",
            "\n",
            "list_observations(filters:aot_client.filters.F=None) -> aot_client.responses.PagedResponse method of aot_client.client.AotClient instance\n",
            "    Returns a ``PagedResponse`` object with a list of *observations*.\n",
            "    Observations are the data collected by the sensors.\n",
            "    \n",
            "    See the `API documentation`_ for details on the system design.\n",
            "    \n",
            "    .. _API documentation: https://api.arrayofthings.org/docs\n",
            "    \n",
            "    :param filters: Query parameters applied to the request\n",
            "\n"
          ],
          "name": "stdout"
        }
      ]
    },
    {
      "metadata": {
        "id": "3v5xgh70adv0",
        "colab_type": "text"
      },
      "cell_type": "markdown",
      "source": [
        "It appears results will be paginated and we can also pass a filter. From the docs website I see that users may pass a timestamp filter in ISO 8601 format. Let's get measurements from the past 15 minutes."
      ]
    },
    {
      "metadata": {
        "id": "BiGuGsktmVKH",
        "colab_type": "code",
        "colab": {
          "base_uri": "https://localhost:8080/",
          "height": 229
        },
        "outputId": "78887512-ba5a-4e69-9e70-a36c665ec56c"
      },
      "cell_type": "code",
      "source": [
        "import datetime\n",
        "\n",
        "import pandas as pd\n",
        "from aot_client import F\n",
        "\n",
        "\n",
        "hr_diff = 0.25\n",
        "t = datetime.datetime.now() - datetime.timedelta(hours=hr_diff)\n",
        "t = t.isoformat()\n",
        "print(f\"observations since:{t}\")\n",
        "\n",
        "observations = client.list_observations(\n",
        "    filters=F('timestamp', f'ge:{t}')\n",
        ")\n",
        "\n",
        "# Note this could take a while, even for just 15 mins of data\n",
        "pages = []\n",
        "for page in observations:\n",
        "    pages += page.data\n",
        "    \n",
        "obs_df = pd.DataFrame(pages)\n",
        "print(f\"shape: {obs_df.shape}\")\n",
        "obs_df.head()"
      ],
      "execution_count": 167,
      "outputs": [
        {
          "output_type": "stream",
          "text": [
            "2019-01-08T22:11:00.341089\n",
            "(20723, 4)\n"
          ],
          "name": "stdout"
        },
        {
          "output_type": "execute_result",
          "data": {
            "text/html": [
              "<div>\n",
              "<style scoped>\n",
              "    .dataframe tbody tr th:only-of-type {\n",
              "        vertical-align: middle;\n",
              "    }\n",
              "\n",
              "    .dataframe tbody tr th {\n",
              "        vertical-align: top;\n",
              "    }\n",
              "\n",
              "    .dataframe thead th {\n",
              "        text-align: right;\n",
              "    }\n",
              "</style>\n",
              "<table border=\"1\" class=\"dataframe\">\n",
              "  <thead>\n",
              "    <tr style=\"text-align: right;\">\n",
              "      <th></th>\n",
              "      <th>node_vsn</th>\n",
              "      <th>sensor_path</th>\n",
              "      <th>timestamp</th>\n",
              "      <th>value</th>\n",
              "    </tr>\n",
              "  </thead>\n",
              "  <tbody>\n",
              "    <tr>\n",
              "      <th>0</th>\n",
              "      <td>085</td>\n",
              "      <td>metsense.tsys01.temperature</td>\n",
              "      <td>2019-01-08T22:20:45</td>\n",
              "      <td>6.240</td>\n",
              "    </tr>\n",
              "    <tr>\n",
              "      <th>1</th>\n",
              "      <td>085</td>\n",
              "      <td>metsense.tsl250rd.intensity</td>\n",
              "      <td>2019-01-08T22:20:45</td>\n",
              "      <td>3.827</td>\n",
              "    </tr>\n",
              "    <tr>\n",
              "      <th>2</th>\n",
              "      <td>085</td>\n",
              "      <td>metsense.tmp112.temperature</td>\n",
              "      <td>2019-01-08T22:20:45</td>\n",
              "      <td>6.560</td>\n",
              "    </tr>\n",
              "    <tr>\n",
              "      <th>3</th>\n",
              "      <td>085</td>\n",
              "      <td>metsense.spv1840lr5h_b.intensity</td>\n",
              "      <td>2019-01-08T22:20:45</td>\n",
              "      <td>56.720</td>\n",
              "    </tr>\n",
              "    <tr>\n",
              "      <th>4</th>\n",
              "      <td>085</td>\n",
              "      <td>metsense.pr103j2.temperature</td>\n",
              "      <td>2019-01-08T22:20:45</td>\n",
              "      <td>6.650</td>\n",
              "    </tr>\n",
              "  </tbody>\n",
              "</table>\n",
              "</div>"
            ],
            "text/plain": [
              "  node_vsn                       sensor_path            timestamp   value\n",
              "0      085       metsense.tsys01.temperature  2019-01-08T22:20:45   6.240\n",
              "1      085       metsense.tsl250rd.intensity  2019-01-08T22:20:45   3.827\n",
              "2      085       metsense.tmp112.temperature  2019-01-08T22:20:45   6.560\n",
              "3      085  metsense.spv1840lr5h_b.intensity  2019-01-08T22:20:45  56.720\n",
              "4      085      metsense.pr103j2.temperature  2019-01-08T22:20:45   6.650"
            ]
          },
          "metadata": {
            "tags": []
          },
          "execution_count": 167
        }
      ]
    },
    {
      "metadata": {
        "id": "1YvpBsRbMoKe",
        "colab_type": "text"
      },
      "cell_type": "markdown",
      "source": [
        "Where in the city are measurements being taken? Let's look at our nodes."
      ]
    },
    {
      "metadata": {
        "id": "mWS_OaBwo9c8",
        "colab_type": "code",
        "colab": {
          "base_uri": "https://localhost:8080/",
          "height": 194
        },
        "outputId": "23cc2da7-e592-46c8-9ecb-f9174eb4f942"
      },
      "cell_type": "code",
      "source": [
        "nodes = client.list_nodes()\n",
        "\n",
        "nodes_df = pd.DataFrame(nodes.data)\n",
        "nodes_df.head()"
      ],
      "execution_count": 232,
      "outputs": [
        {
          "output_type": "execute_result",
          "data": {
            "text/html": [
              "<div>\n",
              "<style scoped>\n",
              "    .dataframe tbody tr th:only-of-type {\n",
              "        vertical-align: middle;\n",
              "    }\n",
              "\n",
              "    .dataframe tbody tr th {\n",
              "        vertical-align: top;\n",
              "    }\n",
              "\n",
              "    .dataframe thead th {\n",
              "        text-align: right;\n",
              "    }\n",
              "</style>\n",
              "<table border=\"1\" class=\"dataframe\">\n",
              "  <thead>\n",
              "    <tr style=\"text-align: right;\">\n",
              "      <th></th>\n",
              "      <th>address</th>\n",
              "      <th>commissioned_on</th>\n",
              "      <th>decommissioned_on</th>\n",
              "      <th>description</th>\n",
              "      <th>location</th>\n",
              "      <th>vsn</th>\n",
              "    </tr>\n",
              "  </thead>\n",
              "  <tbody>\n",
              "    <tr>\n",
              "      <th>0</th>\n",
              "      <td>State St &amp; Jackson Blvd Chicago IL</td>\n",
              "      <td>2017-10-09T00:00:00</td>\n",
              "      <td>None</td>\n",
              "      <td>AoT Chicago (S) [C]</td>\n",
              "      <td>{'type': 'Point', 'crs': {'type': 'name', 'pro...</td>\n",
              "      <td>004</td>\n",
              "    </tr>\n",
              "    <tr>\n",
              "      <th>1</th>\n",
              "      <td>18th St &amp; Lake Shore Dr Chicago IL</td>\n",
              "      <td>2017-08-08T00:00:00</td>\n",
              "      <td>None</td>\n",
              "      <td>AoT Chicago (S)</td>\n",
              "      <td>{'type': 'Point', 'crs': {'type': 'name', 'pro...</td>\n",
              "      <td>006</td>\n",
              "    </tr>\n",
              "    <tr>\n",
              "      <th>2</th>\n",
              "      <td>Cornell &amp; 47th St Chicago IL</td>\n",
              "      <td>2017-08-08T00:00:00</td>\n",
              "      <td>None</td>\n",
              "      <td>AoT Chicago (S)</td>\n",
              "      <td>{'type': 'Point', 'crs': {'type': 'name', 'pro...</td>\n",
              "      <td>00D</td>\n",
              "    </tr>\n",
              "    <tr>\n",
              "      <th>3</th>\n",
              "      <td>Ohio St &amp; Grand Ave Chicago IL</td>\n",
              "      <td>2017-12-01T00:00:00</td>\n",
              "      <td>2018-06-04T00:00:00</td>\n",
              "      <td>AoT Chicago (S) [C]</td>\n",
              "      <td>{'type': 'Point', 'crs': {'type': 'name', 'pro...</td>\n",
              "      <td>010</td>\n",
              "    </tr>\n",
              "    <tr>\n",
              "      <th>4</th>\n",
              "      <td>Stony Island Ave &amp; 63rd St Chicago IL</td>\n",
              "      <td>2018-02-26T00:00:00</td>\n",
              "      <td>None</td>\n",
              "      <td>AoT Chicago (S) [C]</td>\n",
              "      <td>{'type': 'Point', 'crs': {'type': 'name', 'pro...</td>\n",
              "      <td>018</td>\n",
              "    </tr>\n",
              "  </tbody>\n",
              "</table>\n",
              "</div>"
            ],
            "text/plain": [
              "                                 address      commissioned_on  \\\n",
              "0     State St & Jackson Blvd Chicago IL  2017-10-09T00:00:00   \n",
              "1     18th St & Lake Shore Dr Chicago IL  2017-08-08T00:00:00   \n",
              "2           Cornell & 47th St Chicago IL  2017-08-08T00:00:00   \n",
              "3         Ohio St & Grand Ave Chicago IL  2017-12-01T00:00:00   \n",
              "4  Stony Island Ave & 63rd St Chicago IL  2018-02-26T00:00:00   \n",
              "\n",
              "     decommissioned_on          description  \\\n",
              "0                 None  AoT Chicago (S) [C]   \n",
              "1                 None      AoT Chicago (S)   \n",
              "2                 None      AoT Chicago (S)   \n",
              "3  2018-06-04T00:00:00  AoT Chicago (S) [C]   \n",
              "4                 None  AoT Chicago (S) [C]   \n",
              "\n",
              "                                            location  vsn  \n",
              "0  {'type': 'Point', 'crs': {'type': 'name', 'pro...  004  \n",
              "1  {'type': 'Point', 'crs': {'type': 'name', 'pro...  006  \n",
              "2  {'type': 'Point', 'crs': {'type': 'name', 'pro...  00D  \n",
              "3  {'type': 'Point', 'crs': {'type': 'name', 'pro...  010  \n",
              "4  {'type': 'Point', 'crs': {'type': 'name', 'pro...  018  "
            ]
          },
          "metadata": {
            "tags": []
          },
          "execution_count": 232
        }
      ]
    },
    {
      "metadata": {
        "id": "S16gkFBvRQ2c",
        "colab_type": "code",
        "colab": {
          "base_uri": "https://localhost:8080/",
          "height": 70
        },
        "outputId": "b33dee26-a80b-4e80-a670-2b9ab139e790"
      },
      "cell_type": "code",
      "source": [
        "nodes_df['location'][0]"
      ],
      "execution_count": 233,
      "outputs": [
        {
          "output_type": "execute_result",
          "data": {
            "text/plain": [
              "{'coordinates': [-87.627678, 41.878377],\n",
              " 'crs': {'properties': {'name': 'EPSG:4326'}, 'type': 'name'},\n",
              " 'type': 'Point'}"
            ]
          },
          "metadata": {
            "tags": []
          },
          "execution_count": 233
        }
      ]
    },
    {
      "metadata": {
        "id": "t1KjkWF8ruh-",
        "colab_type": "code",
        "colab": {
          "base_uri": "https://localhost:8080/",
          "height": 194
        },
        "outputId": "2b240cf2-0b62-4562-8a5d-eeca058b9a16"
      },
      "cell_type": "code",
      "source": [
        "nodes_df['coords'] = nodes_df['location'].apply(lambda x: x['coordinates'])\n",
        "nodes_df[['lon', 'lat']] = pd.DataFrame(nodes_df['coords'].tolist(), columns=['lon', 'lat'])\n",
        "nodes_df = nodes_df.drop(['location', 'coords'], axis=1)\n",
        "nodes_df.head()"
      ],
      "execution_count": 234,
      "outputs": [
        {
          "output_type": "execute_result",
          "data": {
            "text/html": [
              "<div>\n",
              "<style scoped>\n",
              "    .dataframe tbody tr th:only-of-type {\n",
              "        vertical-align: middle;\n",
              "    }\n",
              "\n",
              "    .dataframe tbody tr th {\n",
              "        vertical-align: top;\n",
              "    }\n",
              "\n",
              "    .dataframe thead th {\n",
              "        text-align: right;\n",
              "    }\n",
              "</style>\n",
              "<table border=\"1\" class=\"dataframe\">\n",
              "  <thead>\n",
              "    <tr style=\"text-align: right;\">\n",
              "      <th></th>\n",
              "      <th>address</th>\n",
              "      <th>commissioned_on</th>\n",
              "      <th>decommissioned_on</th>\n",
              "      <th>description</th>\n",
              "      <th>vsn</th>\n",
              "      <th>lon</th>\n",
              "      <th>lat</th>\n",
              "    </tr>\n",
              "  </thead>\n",
              "  <tbody>\n",
              "    <tr>\n",
              "      <th>0</th>\n",
              "      <td>State St &amp; Jackson Blvd Chicago IL</td>\n",
              "      <td>2017-10-09T00:00:00</td>\n",
              "      <td>None</td>\n",
              "      <td>AoT Chicago (S) [C]</td>\n",
              "      <td>004</td>\n",
              "      <td>-87.627678</td>\n",
              "      <td>41.878377</td>\n",
              "    </tr>\n",
              "    <tr>\n",
              "      <th>1</th>\n",
              "      <td>18th St &amp; Lake Shore Dr Chicago IL</td>\n",
              "      <td>2017-08-08T00:00:00</td>\n",
              "      <td>None</td>\n",
              "      <td>AoT Chicago (S)</td>\n",
              "      <td>006</td>\n",
              "      <td>-87.616055</td>\n",
              "      <td>41.858136</td>\n",
              "    </tr>\n",
              "    <tr>\n",
              "      <th>2</th>\n",
              "      <td>Cornell &amp; 47th St Chicago IL</td>\n",
              "      <td>2017-08-08T00:00:00</td>\n",
              "      <td>None</td>\n",
              "      <td>AoT Chicago (S)</td>\n",
              "      <td>00D</td>\n",
              "      <td>-87.590228</td>\n",
              "      <td>41.810342</td>\n",
              "    </tr>\n",
              "    <tr>\n",
              "      <th>3</th>\n",
              "      <td>Ohio St &amp; Grand Ave Chicago IL</td>\n",
              "      <td>2017-12-01T00:00:00</td>\n",
              "      <td>2018-06-04T00:00:00</td>\n",
              "      <td>AoT Chicago (S) [C]</td>\n",
              "      <td>010</td>\n",
              "      <td>-87.611603</td>\n",
              "      <td>41.891964</td>\n",
              "    </tr>\n",
              "    <tr>\n",
              "      <th>4</th>\n",
              "      <td>Stony Island Ave &amp; 63rd St Chicago IL</td>\n",
              "      <td>2018-02-26T00:00:00</td>\n",
              "      <td>None</td>\n",
              "      <td>AoT Chicago (S) [C]</td>\n",
              "      <td>018</td>\n",
              "      <td>-87.586456</td>\n",
              "      <td>41.780600</td>\n",
              "    </tr>\n",
              "  </tbody>\n",
              "</table>\n",
              "</div>"
            ],
            "text/plain": [
              "                                 address      commissioned_on  \\\n",
              "0     State St & Jackson Blvd Chicago IL  2017-10-09T00:00:00   \n",
              "1     18th St & Lake Shore Dr Chicago IL  2017-08-08T00:00:00   \n",
              "2           Cornell & 47th St Chicago IL  2017-08-08T00:00:00   \n",
              "3         Ohio St & Grand Ave Chicago IL  2017-12-01T00:00:00   \n",
              "4  Stony Island Ave & 63rd St Chicago IL  2018-02-26T00:00:00   \n",
              "\n",
              "     decommissioned_on          description  vsn        lon        lat  \n",
              "0                 None  AoT Chicago (S) [C]  004 -87.627678  41.878377  \n",
              "1                 None      AoT Chicago (S)  006 -87.616055  41.858136  \n",
              "2                 None      AoT Chicago (S)  00D -87.590228  41.810342  \n",
              "3  2018-06-04T00:00:00  AoT Chicago (S) [C]  010 -87.611603  41.891964  \n",
              "4                 None  AoT Chicago (S) [C]  018 -87.586456  41.780600  "
            ]
          },
          "metadata": {
            "tags": []
          },
          "execution_count": 234
        }
      ]
    },
    {
      "metadata": {
        "id": "xYx3ypAKSPIC",
        "colab_type": "code",
        "outputId": "0f8ed2c3-953e-483c-aa36-749f86cde343",
        "colab": {
          "base_uri": "https://localhost:8080/",
          "height": 402
        }
      },
      "cell_type": "code",
      "source": [
        "import matplotlib.pyplot as plt\n",
        "\n",
        "plt.scatter(nodes_df['lon'], nodes_df['lat'])\n",
        "plt.axes().set_aspect('equal')\n",
        "plt.show()"
      ],
      "execution_count": 229,
      "outputs": [
        {
          "output_type": "stream",
          "text": [
            "/usr/local/lib/python3.6/dist-packages/matplotlib/cbook/deprecation.py:106: MatplotlibDeprecationWarning: Adding an axes using the same arguments as a previous axes currently reuses the earlier instance.  In a future version, a new instance will always be created and returned.  Meanwhile, this warning can be suppressed, and the future behavior ensured, by passing a unique label to each axes instance.\n",
            "  warnings.warn(message, mplDeprecation, stacklevel=1)\n"
          ],
          "name": "stderr"
        },
        {
          "output_type": "display_data",
          "data": {
            "image/png": "[encoded data removed]",
            "text/plain": [
              "<matplotlib.figure.Figure at 0x7fca993e93c8>"
            ]
          },
          "metadata": {
            "tags": []
          }
        }
      ]
    },
    {
      "metadata": {
        "id": "rwkISnv0w3_u",
        "colab_type": "code",
        "colab": {}
      },
      "cell_type": "code",
      "source": [
        ""
      ],
      "execution_count": 0,
      "outputs": []
    },
    {
      "metadata": {
        "id": "8rNEi41PJCah",
        "colab_type": "text"
      },
      "cell_type": "markdown",
      "source": [
        "Yup, that looks like Chicago!\n",
        "\n",
        "Let's merge these coordinates into our observations and visualize some sensor data."
      ]
    },
    {
      "metadata": {
        "id": "jFhvulplnKWP",
        "colab_type": "code",
        "colab": {
          "base_uri": "https://localhost:8080/",
          "height": 194
        },
        "outputId": "c5b8fd96-1d22-4c01-cd1e-f842be7288d9"
      },
      "cell_type": "code",
      "source": [
        "df = obs_df.merge(nodes_df[['vsn', 'lon', 'lat']], left_on='node_vsn', right_on='vsn')\n",
        "df = df.drop('vsn', axis=1)\n",
        "df.head()"
      ],
      "execution_count": 183,
      "outputs": [
        {
          "output_type": "execute_result",
          "data": {
            "text/html": [
              "<div>\n",
              "<style scoped>\n",
              "    .dataframe tbody tr th:only-of-type {\n",
              "        vertical-align: middle;\n",
              "    }\n",
              "\n",
              "    .dataframe tbody tr th {\n",
              "        vertical-align: top;\n",
              "    }\n",
              "\n",
              "    .dataframe thead th {\n",
              "        text-align: right;\n",
              "    }\n",
              "</style>\n",
              "<table border=\"1\" class=\"dataframe\">\n",
              "  <thead>\n",
              "    <tr style=\"text-align: right;\">\n",
              "      <th></th>\n",
              "      <th>node_vsn</th>\n",
              "      <th>sensor_path</th>\n",
              "      <th>timestamp</th>\n",
              "      <th>value</th>\n",
              "      <th>lon</th>\n",
              "      <th>lat</th>\n",
              "    </tr>\n",
              "  </thead>\n",
              "  <tbody>\n",
              "    <tr>\n",
              "      <th>0</th>\n",
              "      <td>085</td>\n",
              "      <td>metsense.tsys01.temperature</td>\n",
              "      <td>2019-01-08T22:20:45</td>\n",
              "      <td>6.240</td>\n",
              "      <td>-87.663518</td>\n",
              "      <td>41.75034</td>\n",
              "    </tr>\n",
              "    <tr>\n",
              "      <th>1</th>\n",
              "      <td>085</td>\n",
              "      <td>metsense.tsl250rd.intensity</td>\n",
              "      <td>2019-01-08T22:20:45</td>\n",
              "      <td>3.827</td>\n",
              "      <td>-87.663518</td>\n",
              "      <td>41.75034</td>\n",
              "    </tr>\n",
              "    <tr>\n",
              "      <th>2</th>\n",
              "      <td>085</td>\n",
              "      <td>metsense.tmp112.temperature</td>\n",
              "      <td>2019-01-08T22:20:45</td>\n",
              "      <td>6.560</td>\n",
              "      <td>-87.663518</td>\n",
              "      <td>41.75034</td>\n",
              "    </tr>\n",
              "    <tr>\n",
              "      <th>3</th>\n",
              "      <td>085</td>\n",
              "      <td>metsense.spv1840lr5h_b.intensity</td>\n",
              "      <td>2019-01-08T22:20:45</td>\n",
              "      <td>56.720</td>\n",
              "      <td>-87.663518</td>\n",
              "      <td>41.75034</td>\n",
              "    </tr>\n",
              "    <tr>\n",
              "      <th>4</th>\n",
              "      <td>085</td>\n",
              "      <td>metsense.pr103j2.temperature</td>\n",
              "      <td>2019-01-08T22:20:45</td>\n",
              "      <td>6.650</td>\n",
              "      <td>-87.663518</td>\n",
              "      <td>41.75034</td>\n",
              "    </tr>\n",
              "  </tbody>\n",
              "</table>\n",
              "</div>"
            ],
            "text/plain": [
              "  node_vsn                       sensor_path            timestamp   value  \\\n",
              "0      085       metsense.tsys01.temperature  2019-01-08T22:20:45   6.240   \n",
              "1      085       metsense.tsl250rd.intensity  2019-01-08T22:20:45   3.827   \n",
              "2      085       metsense.tmp112.temperature  2019-01-08T22:20:45   6.560   \n",
              "3      085  metsense.spv1840lr5h_b.intensity  2019-01-08T22:20:45  56.720   \n",
              "4      085      metsense.pr103j2.temperature  2019-01-08T22:20:45   6.650   \n",
              "\n",
              "         lon       lat  \n",
              "0 -87.663518  41.75034  \n",
              "1 -87.663518  41.75034  \n",
              "2 -87.663518  41.75034  \n",
              "3 -87.663518  41.75034  \n",
              "4 -87.663518  41.75034  "
            ]
          },
          "metadata": {
            "tags": []
          },
          "execution_count": 183
        }
      ]
    },
    {
      "metadata": {
        "id": "9F8Oj_KknK6Y",
        "colab_type": "text"
      },
      "cell_type": "markdown",
      "source": [
        "What kind of measurements are taken?"
      ]
    },
    {
      "metadata": {
        "id": "LrRAfGB5Ppvt",
        "colab_type": "code",
        "colab": {
          "base_uri": "https://localhost:8080/",
          "height": 728
        },
        "outputId": "539d053f-f001-4a09-d911-cf5d877e7afd"
      },
      "cell_type": "code",
      "source": [
        "df['sensor_path'].unique()"
      ],
      "execution_count": 181,
      "outputs": [
        {
          "output_type": "execute_result",
          "data": {
            "text/plain": [
              "array(['metsense.tsys01.temperature', 'metsense.tsl250rd.intensity',\n",
              "       'metsense.tmp112.temperature', 'metsense.spv1840lr5h_b.intensity',\n",
              "       'metsense.pr103j2.temperature', 'metsense.mma8452q.acceleration_z',\n",
              "       'metsense.mma8452q.acceleration_y',\n",
              "       'metsense.mma8452q.acceleration_x', 'metsense.htu21d.temperature',\n",
              "       'metsense.htu21d.humidity', 'metsense.hih4030.humidity',\n",
              "       'metsense.bmp180.temperature', 'metsense.bmp180.pressure',\n",
              "       'lightsense.tsl260rd.intensity', 'lightsense.tsl250rd.intensity',\n",
              "       'lightsense.tmp421.temperature', 'lightsense.mlx75305.intensity',\n",
              "       'lightsense.ml8511.intensity',\n",
              "       'lightsense.hmc5883l.magnetic_field_z',\n",
              "       'lightsense.hmc5883l.magnetic_field_y',\n",
              "       'lightsense.hmc5883l.magnetic_field_x',\n",
              "       'lightsense.hih6130.temperature', 'lightsense.hih6130.humidity',\n",
              "       'lightsense.apds_9006_020.intensity',\n",
              "       'chemsense.so2.concentration',\n",
              "       'chemsense.reducing_gases.concentration',\n",
              "       'chemsense.oxidizing_gases.concentration',\n",
              "       'chemsense.o3.concentration', 'chemsense.no2.concentration',\n",
              "       'chemsense.lps25h.temperature', 'chemsense.lps25h.pressure',\n",
              "       'chemsense.h2s.concentration', 'chemsense.co.concentration',\n",
              "       'chemsense.at3.temperature', 'chemsense.at2.temperature',\n",
              "       'chemsense.at1.temperature', 'chemsense.at0.temperature',\n",
              "       'wagman.uptime.uptime', 'wagman.temperatures.powersupply',\n",
              "       'wagman.temperatures.nc_heatsink',\n",
              "       'wagman.temperatures.ep_heatsink',\n",
              "       'wagman.temperatures.brainplate', 'wagman.temperatures.battery',\n",
              "       'wagman.htu21d.temperature', 'wagman.htu21d.humidity',\n",
              "       'wagman.heartbeat.nc', 'wagman.heartbeat.ep',\n",
              "       'wagman.heartbeat.cs', 'wagman.failures.nc', 'wagman.failures.ep',\n",
              "       'wagman.failures.cs', 'wagman.current.wagman', 'wagman.current.nc',\n",
              "       'wagman.current.ep', 'wagman.current.cs', 'nc.uptime.uptime',\n",
              "       'nc.uptime.idletime', 'nc.net_lan.tx', 'nc.net_lan.rx',\n",
              "       'nc.net_broadband.tx', 'nc.net_broadband.rx', 'nc.mem.total',\n",
              "       'nc.mem.free', 'nc.loadavg.load_5', 'nc.loadavg.load_10',\n",
              "       'nc.loadavg.load_1', 'ep.uptime.uptime', 'ep.uptime.idletime',\n",
              "       'ep.mem.total', 'ep.mem.free', 'ep.loadavg.load_5',\n",
              "       'ep.loadavg.load_10', 'ep.loadavg.load_1',\n",
              "       'chemsense.sht25.temperature', 'chemsense.sht25.humidity'],\n",
              "      dtype=object)"
            ]
          },
          "metadata": {
            "tags": []
          },
          "execution_count": 181
        }
      ]
    },
    {
      "metadata": {
        "id": "kUVGnMfkPxPQ",
        "colab_type": "text"
      },
      "cell_type": "markdown",
      "source": [
        "Things I notice:\n",
        "* multiple temperature, pressue, humidity measures - are they comparable within the same node?\n",
        "* accelerometers are an interesting choice. I wonder how that data can be used.\n",
        "* does every node contain the same sensors?\n",
        "\n",
        "We already stored sensor observations in `obs_df`, but we still don't have context around the data. For that we must pull details about the sensors themselves."
      ]
    },
    {
      "metadata": {
        "id": "AJ9DLzVGK6om",
        "colab_type": "code",
        "colab": {
          "base_uri": "https://localhost:8080/",
          "height": 194
        },
        "outputId": "427f971b-924e-4cde-e267-0fa20d3d5339"
      },
      "cell_type": "code",
      "source": [
        "sensors = client.list_sensors()\n",
        "\n",
        "sensors_df = pd.DataFrame(sensors.data)\n",
        "sensors_df.head()"
      ],
      "execution_count": 173,
      "outputs": [
        {
          "output_type": "execute_result",
          "data": {
            "text/html": [
              "<div>\n",
              "<style scoped>\n",
              "    .dataframe tbody tr th:only-of-type {\n",
              "        vertical-align: middle;\n",
              "    }\n",
              "\n",
              "    .dataframe tbody tr th {\n",
              "        vertical-align: top;\n",
              "    }\n",
              "\n",
              "    .dataframe thead th {\n",
              "        text-align: right;\n",
              "    }\n",
              "</style>\n",
              "<table border=\"1\" class=\"dataframe\">\n",
              "  <thead>\n",
              "    <tr style=\"text-align: right;\">\n",
              "      <th></th>\n",
              "      <th>data_sheet</th>\n",
              "      <th>max</th>\n",
              "      <th>min</th>\n",
              "      <th>ontology</th>\n",
              "      <th>parameter</th>\n",
              "      <th>path</th>\n",
              "      <th>sensor</th>\n",
              "      <th>subsystem</th>\n",
              "      <th>uom</th>\n",
              "    </tr>\n",
              "  </thead>\n",
              "  <tbody>\n",
              "    <tr>\n",
              "      <th>0</th>\n",
              "      <td>https://github.com/waggle-sensor/sensors/raw/m...</td>\n",
              "      <td>NaN</td>\n",
              "      <td>0.0</td>\n",
              "      <td>/sensing/air_quality/particulates/particle_count</td>\n",
              "      <td>bins</td>\n",
              "      <td>alphasense.opc_n2.bins</td>\n",
              "      <td>opc_n2</td>\n",
              "      <td>alphasense</td>\n",
              "      <td>counts</td>\n",
              "    </tr>\n",
              "    <tr>\n",
              "      <th>1</th>\n",
              "      <td>https://github.com/waggle-sensor/sensors/raw/m...</td>\n",
              "      <td>NaN</td>\n",
              "      <td>NaN</td>\n",
              "      <td>/system/other/id</td>\n",
              "      <td>fw</td>\n",
              "      <td>alphasense.opc_n2.fw</td>\n",
              "      <td>opc_n2</td>\n",
              "      <td>alphasense</td>\n",
              "      <td>None</td>\n",
              "    </tr>\n",
              "    <tr>\n",
              "      <th>2</th>\n",
              "      <td>https://github.com/waggle-sensor/sensors/raw/m...</td>\n",
              "      <td>NaN</td>\n",
              "      <td>0.0</td>\n",
              "      <td>/sensing/air_quality/particulates/pm_1</td>\n",
              "      <td>pm1</td>\n",
              "      <td>alphasense.opc_n2.pm1</td>\n",
              "      <td>opc_n2</td>\n",
              "      <td>alphasense</td>\n",
              "      <td>μg/m^3</td>\n",
              "    </tr>\n",
              "    <tr>\n",
              "      <th>3</th>\n",
              "      <td>https://github.com/waggle-sensor/sensors/raw/m...</td>\n",
              "      <td>NaN</td>\n",
              "      <td>0.0</td>\n",
              "      <td>/sensing/air_quality/particulates/pm_10</td>\n",
              "      <td>pm10</td>\n",
              "      <td>alphasense.opc_n2.pm10</td>\n",
              "      <td>opc_n2</td>\n",
              "      <td>alphasense</td>\n",
              "      <td>μg/m^3</td>\n",
              "    </tr>\n",
              "    <tr>\n",
              "      <th>4</th>\n",
              "      <td>https://github.com/waggle-sensor/sensors/raw/m...</td>\n",
              "      <td>NaN</td>\n",
              "      <td>0.0</td>\n",
              "      <td>/sensing/air_quality/particulates/pm_2_5</td>\n",
              "      <td>pm2_5</td>\n",
              "      <td>alphasense.opc_n2.pm2_5</td>\n",
              "      <td>opc_n2</td>\n",
              "      <td>alphasense</td>\n",
              "      <td>μg/m^3</td>\n",
              "    </tr>\n",
              "  </tbody>\n",
              "</table>\n",
              "</div>"
            ],
            "text/plain": [
              "                                          data_sheet  max  min  \\\n",
              "0  https://github.com/waggle-sensor/sensors/raw/m...  NaN  0.0   \n",
              "1  https://github.com/waggle-sensor/sensors/raw/m...  NaN  NaN   \n",
              "2  https://github.com/waggle-sensor/sensors/raw/m...  NaN  0.0   \n",
              "3  https://github.com/waggle-sensor/sensors/raw/m...  NaN  0.0   \n",
              "4  https://github.com/waggle-sensor/sensors/raw/m...  NaN  0.0   \n",
              "\n",
              "                                           ontology parameter  \\\n",
              "0  /sensing/air_quality/particulates/particle_count      bins   \n",
              "1                                  /system/other/id        fw   \n",
              "2            /sensing/air_quality/particulates/pm_1       pm1   \n",
              "3           /sensing/air_quality/particulates/pm_10      pm10   \n",
              "4          /sensing/air_quality/particulates/pm_2_5     pm2_5   \n",
              "\n",
              "                      path  sensor   subsystem     uom  \n",
              "0   alphasense.opc_n2.bins  opc_n2  alphasense  counts  \n",
              "1     alphasense.opc_n2.fw  opc_n2  alphasense    None  \n",
              "2    alphasense.opc_n2.pm1  opc_n2  alphasense  μg/m^3  \n",
              "3   alphasense.opc_n2.pm10  opc_n2  alphasense  μg/m^3  \n",
              "4  alphasense.opc_n2.pm2_5  opc_n2  alphasense  μg/m^3  "
            ]
          },
          "metadata": {
            "tags": []
          },
          "execution_count": 173
        }
      ]
    },
    {
      "metadata": {
        "id": "ZfuOvX91QPjM",
        "colab_type": "text"
      },
      "cell_type": "markdown",
      "source": [
        "Let's merge in these details to our observations dataframe."
      ]
    },
    {
      "metadata": {
        "id": "yggvd8woQO3P",
        "colab_type": "code",
        "colab": {
          "base_uri": "https://localhost:8080/",
          "height": 194
        },
        "outputId": "1b16e44d-a2ac-4368-936c-f71d9ff39bcf"
      },
      "cell_type": "code",
      "source": [
        "df = df.merge(sensors_df[['path', 'parameter', 'sensor', 'uom']], how='left', left_on='sensor_path', right_on='path')\n",
        "df = df.drop('path', axis=1)\n",
        "df.head()"
      ],
      "execution_count": 184,
      "outputs": [
        {
          "output_type": "execute_result",
          "data": {
            "text/html": [
              "<div>\n",
              "<style scoped>\n",
              "    .dataframe tbody tr th:only-of-type {\n",
              "        vertical-align: middle;\n",
              "    }\n",
              "\n",
              "    .dataframe tbody tr th {\n",
              "        vertical-align: top;\n",
              "    }\n",
              "\n",
              "    .dataframe thead th {\n",
              "        text-align: right;\n",
              "    }\n",
              "</style>\n",
              "<table border=\"1\" class=\"dataframe\">\n",
              "  <thead>\n",
              "    <tr style=\"text-align: right;\">\n",
              "      <th></th>\n",
              "      <th>node_vsn</th>\n",
              "      <th>sensor_path</th>\n",
              "      <th>timestamp</th>\n",
              "      <th>value</th>\n",
              "      <th>lon</th>\n",
              "      <th>lat</th>\n",
              "      <th>parameter</th>\n",
              "      <th>sensor</th>\n",
              "      <th>uom</th>\n",
              "    </tr>\n",
              "  </thead>\n",
              "  <tbody>\n",
              "    <tr>\n",
              "      <th>0</th>\n",
              "      <td>085</td>\n",
              "      <td>metsense.tsys01.temperature</td>\n",
              "      <td>2019-01-08T22:20:45</td>\n",
              "      <td>6.240</td>\n",
              "      <td>-87.663518</td>\n",
              "      <td>41.75034</td>\n",
              "      <td>temperature</td>\n",
              "      <td>tsys01</td>\n",
              "      <td>C</td>\n",
              "    </tr>\n",
              "    <tr>\n",
              "      <th>1</th>\n",
              "      <td>085</td>\n",
              "      <td>metsense.tsl250rd.intensity</td>\n",
              "      <td>2019-01-08T22:20:45</td>\n",
              "      <td>3.827</td>\n",
              "      <td>-87.663518</td>\n",
              "      <td>41.75034</td>\n",
              "      <td>intensity</td>\n",
              "      <td>tsl250rd</td>\n",
              "      <td>uW/cm^2</td>\n",
              "    </tr>\n",
              "    <tr>\n",
              "      <th>2</th>\n",
              "      <td>085</td>\n",
              "      <td>metsense.tmp112.temperature</td>\n",
              "      <td>2019-01-08T22:20:45</td>\n",
              "      <td>6.560</td>\n",
              "      <td>-87.663518</td>\n",
              "      <td>41.75034</td>\n",
              "      <td>temperature</td>\n",
              "      <td>tmp112</td>\n",
              "      <td>C</td>\n",
              "    </tr>\n",
              "    <tr>\n",
              "      <th>3</th>\n",
              "      <td>085</td>\n",
              "      <td>metsense.spv1840lr5h_b.intensity</td>\n",
              "      <td>2019-01-08T22:20:45</td>\n",
              "      <td>56.720</td>\n",
              "      <td>-87.663518</td>\n",
              "      <td>41.75034</td>\n",
              "      <td>intensity</td>\n",
              "      <td>spv1840lr5h_b</td>\n",
              "      <td>dB</td>\n",
              "    </tr>\n",
              "    <tr>\n",
              "      <th>4</th>\n",
              "      <td>085</td>\n",
              "      <td>metsense.pr103j2.temperature</td>\n",
              "      <td>2019-01-08T22:20:45</td>\n",
              "      <td>6.650</td>\n",
              "      <td>-87.663518</td>\n",
              "      <td>41.75034</td>\n",
              "      <td>temperature</td>\n",
              "      <td>pr103j2</td>\n",
              "      <td>C</td>\n",
              "    </tr>\n",
              "  </tbody>\n",
              "</table>\n",
              "</div>"
            ],
            "text/plain": [
              "  node_vsn                       sensor_path            timestamp   value  \\\n",
              "0      085       metsense.tsys01.temperature  2019-01-08T22:20:45   6.240   \n",
              "1      085       metsense.tsl250rd.intensity  2019-01-08T22:20:45   3.827   \n",
              "2      085       metsense.tmp112.temperature  2019-01-08T22:20:45   6.560   \n",
              "3      085  metsense.spv1840lr5h_b.intensity  2019-01-08T22:20:45  56.720   \n",
              "4      085      metsense.pr103j2.temperature  2019-01-08T22:20:45   6.650   \n",
              "\n",
              "         lon       lat    parameter         sensor      uom  \n",
              "0 -87.663518  41.75034  temperature         tsys01        C  \n",
              "1 -87.663518  41.75034    intensity       tsl250rd  uW/cm^2  \n",
              "2 -87.663518  41.75034  temperature         tmp112        C  \n",
              "3 -87.663518  41.75034    intensity  spv1840lr5h_b       dB  \n",
              "4 -87.663518  41.75034  temperature        pr103j2        C  "
            ]
          },
          "metadata": {
            "tags": []
          },
          "execution_count": 184
        }
      ]
    },
    {
      "metadata": {
        "id": "Jh4yldbDQlEK",
        "colab_type": "code",
        "colab": {
          "base_uri": "https://localhost:8080/",
          "height": 124
        },
        "outputId": "08d0e8ae-0733-49a8-ec3e-a629b776556a"
      },
      "cell_type": "code",
      "source": [
        "df['parameter'].unique()"
      ],
      "execution_count": 185,
      "outputs": [
        {
          "output_type": "execute_result",
          "data": {
            "text/plain": [
              "array(['temperature', 'intensity', 'acceleration_z', 'acceleration_y',\n",
              "       'acceleration_x', 'humidity', 'pressure', 'magnetic_field_z',\n",
              "       'magnetic_field_y', 'magnetic_field_x', 'concentration', 'uptime',\n",
              "       'powersupply', 'nc_heatsink', 'ep_heatsink', 'brainplate',\n",
              "       'battery', 'nc', 'ep', 'cs', 'wagman', 'idletime', 'tx', 'rx',\n",
              "       'total', 'free', 'load_5', 'load_10', 'load_1'], dtype=object)"
            ]
          },
          "metadata": {
            "tags": []
          },
          "execution_count": 185
        }
      ]
    },
    {
      "metadata": {
        "id": "2yPMv_uTQpxz",
        "colab_type": "text"
      },
      "cell_type": "markdown",
      "source": [
        "This is much easier to interpret. What's going on with all those **temperature** measures?"
      ]
    },
    {
      "metadata": {
        "id": "U2fbLvphQ9LQ",
        "colab_type": "code",
        "colab": {
          "base_uri": "https://localhost:8080/",
          "height": 621
        },
        "outputId": "00a8a597-bfc2-4152-e204-66b856baa5cd"
      },
      "cell_type": "code",
      "source": [
        "# sort to get most recent data first\n",
        "df = df.sort_values('timestamp', ascending=False)\n",
        "\n",
        "# drop duplicates to keep only the most recent value of each measurement\n",
        "df = df.drop_duplicates(['node_vsn', 'sensor_path'])\n",
        "\n",
        "temps_df = df.loc[\n",
        "    (df['parameter'] == 'temperature') & \n",
        "    (df['uom'] == 'C')\n",
        "]\n",
        "temps_df.groupby('node_vsn')['value'].apply(lambda x: x.unique())"
      ],
      "execution_count": 190,
      "outputs": [
        {
          "output_type": "execute_result",
          "data": {
            "text/plain": [
              "node_vsn\n",
              "004    [46.12, 7.35, 15.75, 4.4, 8.15, 7.81, 7.54, 8....\n",
              "01C    [17.12, 23.07, 7.9, 7.39, 6.65, 6.62, 10.03, 6...\n",
              "01F    [6.99, 14.0, 6.58, 6.94, 6.8, 9.57, 6.98, 12.6...\n",
              "020    [6.55, 6.5, 5.83, -0.5, 14.12, 10.03, 6.37, 16.0]\n",
              "02A    [13.0, 6.76, 5.1, 6.39, 7.42, -50.25, 6.62, 6....\n",
              "02D    [6.43, 8.29, 6.1, 7.61, 18.92, 6.74, 7.0, 6.8,...\n",
              "030    [6.35, 125.01, -254.0, -0.06, 214.75, 241.0, 1...\n",
              "04C    [7.06, 8.14, -4.63, 15.18, 7.25, -53.87, 7.24,...\n",
              "04D                                        [6.1, -84.84]\n",
              "051           [6.94, 28.66, 12.44, 6.88, 9.3, 6.2, 6.71]\n",
              "052                                               [7.45]\n",
              "053          [17.42, 7.85, 7.03, 6.8, 6.87, 14.81, 6.88]\n",
              "056            [13.0, 14.99, 9.0, 5.86, 5.81, 4.6, 5.62]\n",
              "06D    [8.81, 9.13, 8.11, 9.15, 8.34, 9.16, 9.74, 10....\n",
              "071         [6.58, 6.94, 6.9, -5.83, 34.93, 15.19, 30.9]\n",
              "073    [6.3, 214.75, -254.0, 9.8, 8.08, 7.2, 7.75, 12...\n",
              "079    [6.3, -254.0, 214.75, 125.01, -0.06, 128.86, 2...\n",
              "07F    [214.75, -254.0, 6.2, 128.86, 125.01, -0.06, 2...\n",
              "081    [214.75, -0.06, -254.0, 6.65, 128.86, 241.0, 1...\n",
              "085         [6.24, 12.31, 10.32, 40.7, 6.65, 6.56, 6.91]\n",
              "088    [-0.06, 128.86, 125.01, 6.1, 7.89, 241.0, 6.53...\n",
              "089    [2.9, 14.25, 7.03, 8.66, 22.04, 6.51, 7.96, 7....\n",
              "08B    [7.03, 7.25, 6.9, 11.12, 18.22, 6.35, 14.88, 3...\n",
              "08C    [9.5, 6.59, 6.82, 7.77, 6.53, 16.88, 7.42, 6.7...\n",
              "08D            [15.43, 6.2, 6.31, 5.96, 5.89, 8.0, 12.0]\n",
              "08F    [125.0, 7.35, 6.78, 6.47, 7.06, 9.21, 8.1, 6.5...\n",
              "096    [7.06, 7.92, 9.15, 6.73, 7.1, 7.27, 33.1, 6.94...\n",
              "09C    [7.33, 14.06, 7.15, 7.62, 8.25, 39.5, 13.12, 8...\n",
              "0A0           [7.2, 7.31, 36.8, 14.81, 7.28, 40.45, 7.5]\n",
              "0A3    [4.55, 241.0, -254.0, 128.86, -0.06, 214.75, 1...\n",
              "0A4            [5.13, 5.2, 5.75, 6.1, 23.5, 14.5, 17.16]\n",
              "0AA    [125.01, 214.75, 6.8, 128.86, -254.0, -0.06, 2...\n",
              "Name: value, dtype: object"
            ]
          },
          "metadata": {
            "tags": []
          },
          "execution_count": 190
        }
      ]
    },
    {
      "metadata": {
        "id": "8D2tEe6Qq8-5",
        "colab_type": "text"
      },
      "cell_type": "markdown",
      "source": [
        "Interesting. These temperatures are quite different from one another, even within the same node.\n",
        "\n",
        "How about CO levels?"
      ]
    },
    {
      "metadata": {
        "id": "3QvaI0Gxre3H",
        "colab_type": "code",
        "colab": {
          "base_uri": "https://localhost:8080/",
          "height": 428
        },
        "outputId": "df5355e1-8725-4783-cf8f-2ab40ea9cb12"
      },
      "cell_type": "code",
      "source": [
        "co_conc_df = df.loc[df['sensor'] == 'co']\n",
        "\n",
        "co_conc_df"
      ],
      "execution_count": 218,
      "outputs": [
        {
          "output_type": "execute_result",
          "data": {
            "text/html": [
              "<div>\n",
              "<style scoped>\n",
              "    .dataframe tbody tr th:only-of-type {\n",
              "        vertical-align: middle;\n",
              "    }\n",
              "\n",
              "    .dataframe tbody tr th {\n",
              "        vertical-align: top;\n",
              "    }\n",
              "\n",
              "    .dataframe thead th {\n",
              "        text-align: right;\n",
              "    }\n",
              "</style>\n",
              "<table border=\"1\" class=\"dataframe\">\n",
              "  <thead>\n",
              "    <tr style=\"text-align: right;\">\n",
              "      <th></th>\n",
              "      <th>node_vsn</th>\n",
              "      <th>sensor_path</th>\n",
              "      <th>timestamp</th>\n",
              "      <th>value</th>\n",
              "      <th>lon</th>\n",
              "      <th>lat</th>\n",
              "      <th>parameter</th>\n",
              "      <th>sensor</th>\n",
              "      <th>uom</th>\n",
              "    </tr>\n",
              "  </thead>\n",
              "  <tbody>\n",
              "    <tr>\n",
              "      <th>584</th>\n",
              "      <td>08F</td>\n",
              "      <td>chemsense.co.concentration</td>\n",
              "      <td>2019-01-08T22:20:43</td>\n",
              "      <td>0.07933</td>\n",
              "      <td>-87.665948</td>\n",
              "      <td>41.961622</td>\n",
              "      <td>concentration</td>\n",
              "      <td>co</td>\n",
              "      <td>ppm</td>\n",
              "    </tr>\n",
              "    <tr>\n",
              "      <th>1435</th>\n",
              "      <td>02A</td>\n",
              "      <td>chemsense.co.concentration</td>\n",
              "      <td>2019-01-08T22:20:43</td>\n",
              "      <td>-0.38364</td>\n",
              "      <td>-87.575350</td>\n",
              "      <td>41.722457</td>\n",
              "      <td>concentration</td>\n",
              "      <td>co</td>\n",
              "      <td>ppm</td>\n",
              "    </tr>\n",
              "    <tr>\n",
              "      <th>3527</th>\n",
              "      <td>09C</td>\n",
              "      <td>chemsense.co.concentration</td>\n",
              "      <td>2019-01-08T22:20:35</td>\n",
              "      <td>-0.35367</td>\n",
              "      <td>-87.627864</td>\n",
              "      <td>41.884688</td>\n",
              "      <td>concentration</td>\n",
              "      <td>co</td>\n",
              "      <td>ppm</td>\n",
              "    </tr>\n",
              "    <tr>\n",
              "      <th>6459</th>\n",
              "      <td>088</td>\n",
              "      <td>chemsense.co.concentration</td>\n",
              "      <td>2019-01-08T22:20:34</td>\n",
              "      <td>0.09035</td>\n",
              "      <td>-87.666720</td>\n",
              "      <td>41.965256</td>\n",
              "      <td>concentration</td>\n",
              "      <td>co</td>\n",
              "      <td>ppm</td>\n",
              "    </tr>\n",
              "    <tr>\n",
              "      <th>7310</th>\n",
              "      <td>004</td>\n",
              "      <td>chemsense.co.concentration</td>\n",
              "      <td>2019-01-08T22:20:34</td>\n",
              "      <td>-0.59134</td>\n",
              "      <td>-87.627678</td>\n",
              "      <td>41.878377</td>\n",
              "      <td>concentration</td>\n",
              "      <td>co</td>\n",
              "      <td>ppm</td>\n",
              "    </tr>\n",
              "    <tr>\n",
              "      <th>9937</th>\n",
              "      <td>01C</td>\n",
              "      <td>chemsense.co.concentration</td>\n",
              "      <td>2019-01-08T22:20:32</td>\n",
              "      <td>-0.46646</td>\n",
              "      <td>-87.712990</td>\n",
              "      <td>41.751238</td>\n",
              "      <td>concentration</td>\n",
              "      <td>co</td>\n",
              "      <td>ppm</td>\n",
              "    </tr>\n",
              "    <tr>\n",
              "      <th>11369</th>\n",
              "      <td>08C</td>\n",
              "      <td>chemsense.co.concentration</td>\n",
              "      <td>2019-01-08T22:20:32</td>\n",
              "      <td>-0.31108</td>\n",
              "      <td>-87.687703</td>\n",
              "      <td>41.924903</td>\n",
              "      <td>concentration</td>\n",
              "      <td>co</td>\n",
              "      <td>ppm</td>\n",
              "    </tr>\n",
              "    <tr>\n",
              "      <th>12183</th>\n",
              "      <td>08B</td>\n",
              "      <td>chemsense.co.concentration</td>\n",
              "      <td>2019-01-08T22:20:31</td>\n",
              "      <td>-0.34345</td>\n",
              "      <td>-87.598713</td>\n",
              "      <td>41.788608</td>\n",
              "      <td>concentration</td>\n",
              "      <td>co</td>\n",
              "      <td>ppm</td>\n",
              "    </tr>\n",
              "    <tr>\n",
              "      <th>14653</th>\n",
              "      <td>01F</td>\n",
              "      <td>chemsense.co.concentration</td>\n",
              "      <td>2019-01-08T22:20:28</td>\n",
              "      <td>-0.07006</td>\n",
              "      <td>-87.624179</td>\n",
              "      <td>41.736314</td>\n",
              "      <td>concentration</td>\n",
              "      <td>co</td>\n",
              "      <td>ppm</td>\n",
              "    </tr>\n",
              "    <tr>\n",
              "      <th>15576</th>\n",
              "      <td>096</td>\n",
              "      <td>chemsense.co.concentration</td>\n",
              "      <td>2019-01-08T22:20:27</td>\n",
              "      <td>-0.36994</td>\n",
              "      <td>-87.536509</td>\n",
              "      <td>41.713867</td>\n",
              "      <td>concentration</td>\n",
              "      <td>co</td>\n",
              "      <td>ppm</td>\n",
              "    </tr>\n",
              "    <tr>\n",
              "      <th>16979</th>\n",
              "      <td>089</td>\n",
              "      <td>chemsense.co.concentration</td>\n",
              "      <td>2019-01-08T22:20:27</td>\n",
              "      <td>-0.41875</td>\n",
              "      <td>-87.662391</td>\n",
              "      <td>41.896157</td>\n",
              "      <td>concentration</td>\n",
              "      <td>co</td>\n",
              "      <td>ppm</td>\n",
              "    </tr>\n",
              "    <tr>\n",
              "      <th>18982</th>\n",
              "      <td>073</td>\n",
              "      <td>chemsense.co.concentration</td>\n",
              "      <td>2019-01-08T22:20:22</td>\n",
              "      <td>-0.20685</td>\n",
              "      <td>-87.615957</td>\n",
              "      <td>41.794477</td>\n",
              "      <td>concentration</td>\n",
              "      <td>co</td>\n",
              "      <td>ppm</td>\n",
              "    </tr>\n",
              "    <tr>\n",
              "      <th>19833</th>\n",
              "      <td>06D</td>\n",
              "      <td>chemsense.co.concentration</td>\n",
              "      <td>2019-01-08T22:20:20</td>\n",
              "      <td>-0.34541</td>\n",
              "      <td>-87.598677</td>\n",
              "      <td>41.791329</td>\n",
              "      <td>concentration</td>\n",
              "      <td>co</td>\n",
              "      <td>ppm</td>\n",
              "    </tr>\n",
              "  </tbody>\n",
              "</table>\n",
              "</div>"
            ],
            "text/plain": [
              "      node_vsn                 sensor_path            timestamp    value  \\\n",
              "584        08F  chemsense.co.concentration  2019-01-08T22:20:43  0.07933   \n",
              "1435       02A  chemsense.co.concentration  2019-01-08T22:20:43 -0.38364   \n",
              "3527       09C  chemsense.co.concentration  2019-01-08T22:20:35 -0.35367   \n",
              "6459       088  chemsense.co.concentration  2019-01-08T22:20:34  0.09035   \n",
              "7310       004  chemsense.co.concentration  2019-01-08T22:20:34 -0.59134   \n",
              "9937       01C  chemsense.co.concentration  2019-01-08T22:20:32 -0.46646   \n",
              "11369      08C  chemsense.co.concentration  2019-01-08T22:20:32 -0.31108   \n",
              "12183      08B  chemsense.co.concentration  2019-01-08T22:20:31 -0.34345   \n",
              "14653      01F  chemsense.co.concentration  2019-01-08T22:20:28 -0.07006   \n",
              "15576      096  chemsense.co.concentration  2019-01-08T22:20:27 -0.36994   \n",
              "16979      089  chemsense.co.concentration  2019-01-08T22:20:27 -0.41875   \n",
              "18982      073  chemsense.co.concentration  2019-01-08T22:20:22 -0.20685   \n",
              "19833      06D  chemsense.co.concentration  2019-01-08T22:20:20 -0.34541   \n",
              "\n",
              "             lon        lat      parameter sensor  uom  \n",
              "584   -87.665948  41.961622  concentration     co  ppm  \n",
              "1435  -87.575350  41.722457  concentration     co  ppm  \n",
              "3527  -87.627864  41.884688  concentration     co  ppm  \n",
              "6459  -87.666720  41.965256  concentration     co  ppm  \n",
              "7310  -87.627678  41.878377  concentration     co  ppm  \n",
              "9937  -87.712990  41.751238  concentration     co  ppm  \n",
              "11369 -87.687703  41.924903  concentration     co  ppm  \n",
              "12183 -87.598713  41.788608  concentration     co  ppm  \n",
              "14653 -87.624179  41.736314  concentration     co  ppm  \n",
              "15576 -87.536509  41.713867  concentration     co  ppm  \n",
              "16979 -87.662391  41.896157  concentration     co  ppm  \n",
              "18982 -87.615957  41.794477  concentration     co  ppm  \n",
              "19833 -87.598677  41.791329  concentration     co  ppm  "
            ]
          },
          "metadata": {
            "tags": []
          },
          "execution_count": 218
        }
      ]
    },
    {
      "metadata": {
        "id": "lE_CRluuy6yE",
        "colab_type": "text"
      },
      "cell_type": "markdown",
      "source": [
        "I wonder how there can be negative ppm values. Let's plot it anyway."
      ]
    },
    {
      "metadata": {
        "id": "6XE3SlMusmqz",
        "colab_type": "code",
        "colab": {
          "base_uri": "https://localhost:8080/",
          "height": 124
        },
        "outputId": "8b2d4954-08f8-4d15-d5dd-8fe02a1d0ea5"
      },
      "cell_type": "code",
      "source": [
        "# create a normalized set of values that will be easier scale\n",
        "co_conc_df['value_norm'] = (\n",
        "    (co_conc_df['value'] - min(co_conc_df['value'])) / \n",
        "    (max(co_conc_df['value']) - min(co_conc_df['value']))\n",
        ") * 100"
      ],
      "execution_count": 219,
      "outputs": [
        {
          "output_type": "stream",
          "text": [
            "/usr/local/lib/python3.6/dist-packages/ipykernel_launcher.py:4: SettingWithCopyWarning: \n",
            "A value is trying to be set on a copy of a slice from a DataFrame.\n",
            "Try using .loc[row_indexer,col_indexer] = value instead\n",
            "\n",
            "See the caveats in the documentation: http://pandas.pydata.org/pandas-docs/stable/indexing.html#indexing-view-versus-copy\n",
            "  after removing the cwd from sys.path.\n"
          ],
          "name": "stderr"
        }
      ]
    },
    {
      "metadata": {
        "id": "fVUKcwzuX01N",
        "colab_type": "code",
        "outputId": "03e0e428-11fa-4c69-f36c-fd6cecf85d11",
        "colab": {
          "base_uri": "https://localhost:8080/",
          "height": 402
        }
      },
      "cell_type": "code",
      "source": [
        "plt.scatter(co_conc_df['lon'], co_conc_df['lat'], s=co_conc_df['value_norm'])\n",
        "plt.axes().set_aspect('equal')\n",
        "plt.show()"
      ],
      "execution_count": 228,
      "outputs": [
        {
          "output_type": "stream",
          "text": [
            "/usr/local/lib/python3.6/dist-packages/matplotlib/cbook/deprecation.py:106: MatplotlibDeprecationWarning: Adding an axes using the same arguments as a previous axes currently reuses the earlier instance.  In a future version, a new instance will always be created and returned.  Meanwhile, this warning can be suppressed, and the future behavior ensured, by passing a unique label to each axes instance.\n",
            "  warnings.warn(message, mplDeprecation, stacklevel=1)\n"
          ],
          "name": "stderr"
        },
        {
          "output_type": "display_data",
          "data": {
            "image/png": "[encoded data removed]",
            "text/plain": [
              "<matplotlib.figure.Figure at 0x7fca99468588>"
            ]
          },
          "metadata": {
            "tags": []
          }
        }
      ]
    },
    {
      "metadata": {
        "id": "lzCRIa2-ybI2",
        "colab_type": "text"
      },
      "cell_type": "markdown",
      "source": [
        "## TODOs\n",
        "* plot over a geographic map\n",
        "* use heatmaps\n",
        "* explore other measurements\n",
        "* explore timeseries analysis"
      ]
    }
  ]
}